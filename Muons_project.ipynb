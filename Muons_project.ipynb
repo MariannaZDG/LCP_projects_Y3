{
 "cells": [
  {
   "cell_type": "markdown",
   "metadata": {},
   "source": [
    "# Simulation of a positron-induced Muon Source (part 1)\n",
    "\n",
    "\n",
    "### Authors:\n",
    "* Saverio Monaco\n",
    "* Marianna Zeragic De Giorgio\n",
    "* Gerardo Javier Carmona\n",
    "* Hilario Capettini \n",
    "\n",
    "### Description\n",
    "\n",
    "The production of a high brillance muon beam is one of the most important challenge for the future of Particle Physics. A particularly interesting idea consists of shooting high energy positrons on a target, aiming at the production of muons by means of the process $e^+ + e^- \\rightarrow \\mu^+ + \\mu^-$. To mimize the divergence of the resulting \"muon beam\", the positrons energy is chosen so that the reaction occurs close to threshold (assuming the electrons in the target to be at rest). The main goal of this project is to produce a Monte Carlo simulation of such a process. \n",
    "\n",
    "\n",
    "### References\n",
    "\n",
    "* [LEMMA](https://arxiv.org/pdf/1509.04454.pdf) paper. The original paper describing the positron-induced low emittance muon source, ehere all the relevant kinematic features of the process have been studied\n",
    "* [Babayaga](https://www2.pv.infn.it/~hepcomplex/babayaga.html) event generator. You may want to install and run it as a comparison for your results.\n",
    "* [2018 Experiment](https://arxiv.org/pdf/1909.13716.pdf): the paper describing the (very poor..) results of the experiment carried out in summer 2018\n",
    "* [2021 proposal](https://cds.cern.ch/record/2712394?ln=en): the proposal for the experiment in 2021\n",
    "\n",
    "\n",
    "### Contact\n",
    "\n",
    "* Marco Zanetti <marco.zanetti@unipd.it>\n",
    "* Camilla Curatolo <camilla.curatolo@pd.infn.it>\n",
    "* Jacopo Pazzini <jacopo.pazzini@unipd.it>\n",
    "* Alberto Zucchetta <alberto.zucchetta@pd.infn.it>"
   ]
  },
  {
   "cell_type": "markdown",
   "metadata": {},
   "source": [
    "## Analytical part\n",
    "\n",
    "1. Compute the process leading-order cross section, $\\sigma(\\theta; \\sqrt{s})$, as a function of the scattering angle $\\theta$ and with the  center of mass energy $\\sqrt{s}$ as a parameter. Start by computing it in the center of mass system. N.B.: textbooks reports such cross section in the relativistic limit, i.e. for $\\sqrt{s}\\gg m_\\mu$, which is clearly not the case here ($\\sqrt{s}\\sim 2m_\\mu$);\n",
    "\n",
    "2. compute and display the angle and momentum components distributions of the emerging muon pairs;\n",
    "\n",
    "3. boost muons four-momenta in the laboratory frame, i.e. in the frame where the electron is at rest and the positron has enough energy to give rise to the process;"
   ]
  },
  {
   "cell_type": "code",
   "execution_count": null,
   "metadata": {},
   "outputs": [],
   "source": [
    "#Import the required packages\n",
    "import numpy as np\n",
    "import matplotlib.pyplot as plt\n",
    "from scipy import stats\n",
    "import scipy.integrate as integrate\n",
    "import csv\n",
    "import pandas as pd\n",
    "from matplotlib.ticker import FormatStrFormatter\n",
    "import math"
   ]
  },
  {
   "cell_type": "code",
   "execution_count": null,
   "metadata": {},
   "outputs": [],
   "source": [
    "#Define the universal constants\n",
    "muon_mass       = 0.1056583745       #[GeV]\n",
    "electron_mass   = 0.00051099894      #[GeV]\n",
    "alpha           = 0.007297           #[]            #CHECK\n",
    "Avogadro_number = 6.02214076e23      #[#/mol]"
   ]
  },
  {
   "cell_type": "markdown",
   "metadata": {},
   "source": [
    "The differential cross section was obtained from [MANDELN] and it is  $$\\left(\\frac{d\\sigma}{d\\Omega}\\right)_{CM}=\\frac{2\\,\\alpha^2}{s^2}\\frac{|p'|}{\\sqrt{s}}\\left(\\frac{s}{4}+p'^2\\cos^2\\vartheta+m_\\mu^2\\right)$$\n",
    "\n",
    "Using the relativistic total energy  $$E_{CM}^2=4p'^2+4m_\\mu^2\\rightarrow p'^2=\\frac{E_{CM}^2}{4}-m_\\mu^2\\rightarrow p'^2=\\frac{s}{4}-m_\\mu^2$$\n",
    "\n",
    "The differential cross section can be rewritten as:\n",
    "$$\\left(\\frac{d\\sigma}{d\\Omega}\\right)_{CM}=\\frac{2\\,\\alpha^2}{s}\\sqrt{\\frac{1}{4}-\\frac{m_\\mu^2}{s}}\\left[\\left(\\frac{1}{4}+\\frac{m_\\mu^2}{s}\\right)+\\left(\\frac{1}{4}- \\frac{m_\\mu^2}{s}\\right)\\cos^2{\\theta}\\right]$$\n",
    "\n",
    "Integrating over the solid angle we obtain the total cross section as a function of the total center of mass energy:\n",
    "$$\\sigma(s)=\\frac{8\\pi\\,\\alpha^2}{3s}\\sqrt{\\frac{1}{4}-\\frac{m_\\mu^2}{s}}\\left[1 + 2\\frac{m_\\mu^2}{s}\\right]$$\n",
    "\n",
    "To obtain the Probability Density Function (PDF) the integration must be performed only over the azymuthal angle $\\phi$ and as a result we obtain a function of the polar angle $\\theta$ with the center of mass energy $\\sqrt(s)$ as a parameter.\n",
    "$$PDF(\\theta)=\\frac{4\\pi\\,\\alpha^2}{s}\\sqrt{\\frac{1}{4}-\\frac{m_\\mu^2}{s}}\\left[\\left(\\frac{1}{4}+\\frac{m_\\mu^2}{s}\\right)+\\left(\\frac{1}{4}- \\frac{m_\\mu^2}{s}\\right)\\cos^2{\\theta}\\right]$$\n",
    "\n",
    "This PDF is not normalized but it is easily done dividing it through the total cross section. \n"
   ]
  },
  {
   "cell_type": "code",
   "execution_count": null,
   "metadata": {},
   "outputs": [],
   "source": [
    "#rs is the sqrt(s)= E\n",
    "#The unis are Barn so 1ub = 2.56819e-3  GeV^-2      \n",
    "gev_to_ub = 389.379\n",
    "\n",
    "def cros_section(rs):\n",
    "    # OLD y = np.pi * alpha**2 / (4*rs**2) * np.sqrt(1/4 - muon_mass**2 / rs**2) * (13/12 + 2/3 * muon_mass**2 / rs**2)\n",
    "    y = 8 *np.pi * alpha**2 / (3*rs**2) * np.sqrt(1/4 - muon_mass**2 / rs**2) * (1 + 2 * muon_mass**2 / rs**2)\n",
    "    return y * gev_to_ub\n",
    "    \n",
    "def dif_cross_section(rs,theta):\n",
    "    # OLD y = alpha**2/(16 * rs**2)* np.sqrt(1/4 - muon_mass**2/rs**2) * (1 + muon_mass**2 / rs**2 + (1/4 -muon_mass**2/rs**2)*np.cos(theta)**2)\n",
    "    y = 2 * alpha**2 / rs**2 * np.sqrt(1/4 - muon_mass**2 / rs**2) * (1/4 + muon_mass**2 / rs**2 + (1/4 - muon_mass**2 / rs**2)*np.cos(theta)**2)\n",
    "    return y * gev_to_ub\n",
    "\n",
    "def pdf_theta(rs,theta):\n",
    "    y = 2*np.pi *np.sin(theta)*dif_cross_section(rs,theta)\n",
    "    return y\n",
    "    \n",
    "def pdf_theta_normalized(rs,theta):\n",
    "    y =pdf_theta(rs,theta)/cros_section(rs)\n",
    "    return y\n",
    "\n",
    "\n",
    "\n",
    "\n",
    "def pdf_p(rs,theta):\n",
    "    y = 0\n",
    "    return y\n",
    "    \n",
    "def pdf_p_normalized(rs,theta):\n",
    "    y =pdf_p(rs,theta)/cros_section(rs)\n",
    "    return y"
   ]
  },
  {
   "cell_type": "code",
   "execution_count": null,
   "metadata": {},
   "outputs": [],
   "source": [
    "#\n",
    "###\n",
    "####\n",
    "#####\n",
    "######\n",
    "####### Analysis\n",
    "######\n",
    "#####\n",
    "###\n",
    "##\n",
    "#"
   ]
  },
  {
   "cell_type": "code",
   "execution_count": null,
   "metadata": {},
   "outputs": [],
   "source": [
    "##################################################################################\n",
    "#Analysis parameters\n",
    "delta = 0.001\n",
    "E = 2 * muon_mass + delta  #This is the proposed energy just above the threshold\n",
    "N = 10**7\n",
    "\n",
    "###################################################################################"
   ]
  },
  {
   "cell_type": "code",
   "execution_count": null,
   "metadata": {},
   "outputs": [],
   "source": [
    "print(np.sqrt(E**2/4-muon_mass**2))\n",
    "print(E)\n",
    "print(cros_section(E))"
   ]
  },
  {
   "cell_type": "code",
   "execution_count": null,
   "metadata": {},
   "outputs": [],
   "source": [
    "fig, ax = plt.subplots(figsize=(6,6))\n",
    "theta = np.linspace(0,np.pi)\n",
    "ax.plot(theta, dif_cross_section(E,theta),color='blue', label='PDF')\n",
    "\n",
    "plt.title(r'Diferential cross section for $\\sqrt{s}=$'+str(E), fontsize=15)\n",
    "plt.xlabel(r'$ \\theta [rad] $', fontsize=15)\n",
    "plt.ylabel(r'$ \\frac{d\\sigma}{d\\Omega} [\\mu b]$', fontsize=15)\n",
    "#plt.legend()\n",
    "plt.show()"
   ]
  },
  {
   "cell_type": "code",
   "execution_count": null,
   "metadata": {
    "scrolled": true
   },
   "outputs": [],
   "source": [
    "fig, (ax1, ax2) = plt.subplots(nrows=1, ncols=2, figsize=(12, 6))\n",
    "rs = np.linspace(0.2, 0.5)\n",
    "ax1.plot(rs, cros_section(rs),color='blue', label='PDF')\n",
    "\n",
    "ax1.set_title('Total cross section', fontsize=15)\n",
    "ax1.set_xlabel(r'$ \\sqrt{S} [GeV]$', fontsize=15)\n",
    "ax1.set_ylabel(r'$ \\sigma [\\mu b]$', fontsize=15)\n",
    "#plt.legend()\n",
    "\n",
    "rs = np.linspace(0.21, 0.23)\n",
    "ax2.plot(rs, cros_section(rs),color='blue', label='PDF')\n",
    "\n",
    "ax2.set_title('Total cross section', fontsize=15)\n",
    "ax2.set_xlabel(r'$ \\sqrt{S} [GeV]$', fontsize=15)\n",
    "ax2.set_ylabel(r'$ \\sigma [\\mu b]$', fontsize=15)\n",
    "ax2.set_xlim(0.21,0.23)\n",
    "plt.show()"
   ]
  },
  {
   "cell_type": "code",
   "execution_count": null,
   "metadata": {
    "scrolled": true
   },
   "outputs": [],
   "source": [
    "print('Angle distribution')\n",
    "fig, (ax1, ax2) = plt.subplots(nrows=1, ncols=2, figsize=(12, 6))\n",
    "\n",
    "theta = np.linspace(0, np.pi)\n",
    "\n",
    "\n",
    "ax1.plot(theta, pdf_theta(E,theta),color='blue', label='PDF')\n",
    "ax1.set_title(r'$ PDF(\\theta) for \\sqrt{s}=$'+str(E), fontsize=15)\n",
    "ax1.set_xlabel(r'$ \\theta [rad] $', fontsize=20)\n",
    "ax1.set_ylabel(r'$ PDF$', fontsize=20)\n",
    "#plt.legend()\n",
    "\n",
    "\n",
    "\n",
    "ax2.plot(theta, pdf_theta_normalized(E,theta),color='blue', label='PDF')\n",
    "ax2.set_title(r'Normalized $ PDF(\\theta) for \\sqrt{s}=$'+str(E), fontsize=15)\n",
    "ax2.set_xlabel(r'$ \\theta [rad] $', fontsize=20)\n",
    "ax2.set_ylabel(r'$ PDF$', fontsize=20)\n",
    "plt.show()\n",
    "\n",
    "print('Check the normalization')\n",
    "x2 = lambda x: pdf_theta(E,x)\n",
    "print('Integral of the PDF in [0,pi]',integrate.quad(x2, 0., np.pi)[0])\n",
    "print('')\n",
    "x2 = lambda x: pdf_theta_normalized(E,x)\n",
    "print('Integral of the normalized PDF in [0,pi]',integrate.quad(x2, 0., np.pi)[0])"
   ]
  },
  {
   "cell_type": "markdown",
   "metadata": {},
   "source": [
    "## Monte Carlo Simulation\n",
    "\n",
    "4. write a Monte Carlo simulation that generates scattering events following the distrubtions that you found analytically; \n",
    "5. produce a synthetic dataset of about $N=10^5$ (or more) events. Events should be listed as rows in a file with columns representing the muons coordinates (keep in mind that in the lab frame muons are relativistic and thus the number of coordinates can be only 3 per muon);\n"
   ]
  },
  {
   "cell_type": "code",
   "execution_count": null,
   "metadata": {},
   "outputs": [],
   "source": [
    "#\n",
    "###\n",
    "####\n",
    "#####\n",
    "######\n",
    "#######\n",
    "######\n",
    "#####\n",
    "###\n",
    "##\n",
    "#"
   ]
  },
  {
   "cell_type": "code",
   "execution_count": null,
   "metadata": {},
   "outputs": [],
   "source": [
    "def inv_cdf(rs,r):\n",
    "    s = rs**2\n",
    "    p = 3*(s+4*muon_mass**2)/(s-4*muon_mass**2)\n",
    "    q = 4*(2*r-1)*(s+2*muon_mass**2)/(s-4*muon_mass**2)\n",
    "    h = p**3/27+q**2/4\n",
    "    cos_t = np.cbrt(-q/2+np.sqrt(h))+np.cbrt(-q/2-np.sqrt(h))\n",
    "    rand_theta = np.arccos(cos_t)\n",
    "    return rand_theta\n",
    "\n",
    "def new_pdf_theta(rs,theta):\n",
    "    s = rs**2\n",
    "    y = 3/8*np.sin(theta)/(s+2*muon_mass**2)*((s-4*muon_mass**2)*np.cos(theta)**2+s+4*muon_mass**2)\n",
    "    return y"
   ]
  },
  {
   "cell_type": "code",
   "execution_count": null,
   "metadata": {},
   "outputs": [],
   "source": [
    "#Inputs\n",
    "#box = [0,np.pi,0.0,0.5] #Box coordinates [x0,x1,y0,y1] for analysis\n",
    "                        #We choose the size to optimize the ammount of useful particles"
   ]
  },
  {
   "cell_type": "code",
   "execution_count": null,
   "metadata": {},
   "outputs": [],
   "source": [
    "## DEPRECATED\n",
    "#def accept_reject(N,pdf,box,cm_energy):\n",
    "#    x = np.random.uniform(box[0], box[1], N)\n",
    "#    y = np.random.uniform(box[2], box[3], N)\n",
    "#    \n",
    "#    accepted = x[y<=pdf(cm_energy,x)]\n",
    "#    return accepted\n",
    "   "
   ]
  },
  {
   "cell_type": "code",
   "execution_count": null,
   "metadata": {
    "scrolled": true
   },
   "outputs": [],
   "source": [
    "# Plot scaled histogram\n",
    "fig, ax = plt.subplots(figsize=(12,4))\n",
    "\n",
    "n, bins, _ = ax.hist(inv_cdf(E,np.random.random(N)), bins=50,color='orange', ec='black')\n",
    "\n",
    "d = (bins[1]-bins[0])\n",
    "scaling = d * n.sum()\n",
    "ax.plot(bins, pdf_theta_normalized(E,bins)*scaling,color='blue', label='PDF')\n",
    "\n",
    "plt.title('Histogram of accepted samples for'r'$ \\sqrt{S}=$'+str(E), fontsize=20)\n",
    "plt.xlabel(r'$ \\theta [°]$', fontsize=20)\n",
    "plt.ylabel('Count', fontsize=20)\n",
    "plt.legend()\n",
    "plt.show()"
   ]
  },
  {
   "cell_type": "code",
   "execution_count": null,
   "metadata": {},
   "outputs": [],
   "source": [
    "#Comparison with BabaYaga algorithm\n",
    "\n",
    "\n",
    "\n",
    "\n",
    "\n",
    "\n",
    "\n",
    "\n",
    "\n"
   ]
  },
  {
   "cell_type": "code",
   "execution_count": null,
   "metadata": {},
   "outputs": [],
   "source": [
    "#\n",
    "###\n",
    "####\n",
    "#####\n",
    "######\n",
    "####### SIMULATION 1\n",
    "######\n",
    "#####\n",
    "###\n",
    "##\n",
    "#"
   ]
  },
  {
   "cell_type": "code",
   "execution_count": null,
   "metadata": {},
   "outputs": [],
   "source": [
    "##################################################################################\n",
    "#Simulation parameters\n",
    "\n",
    "delta = 0.001\n",
    "E = 2 * muon_mass + delta  #This is the proposed energy just above the threshold\n",
    "N = 10**7\n",
    "\n",
    "###################################################################################"
   ]
  },
  {
   "cell_type": "code",
   "execution_count": null,
   "metadata": {},
   "outputs": [],
   "source": [
    "#Obtain the parameters distribution\n",
    "theta_instances = inv_cdf(E,np.random.random(N))\n",
    "#N_instances     = len(theta_instances)\n",
    "phi_instances   = np.random.uniform(0., 2*np.pi, N)\n",
    "\n",
    "#The resulting space-momentum magnitude for each muon is the square of half the com energy minus the square of the muon mass.\n",
    "p = np.sqrt(E**2/4-muon_mass**2)"
   ]
  },
  {
   "cell_type": "code",
   "execution_count": null,
   "metadata": {},
   "outputs": [],
   "source": [
    "#Obtain the muons momenta and build the file  (Is it in the CoM frame?)\n",
    "\n",
    "pxm = p * np.sin(theta_instances)*np.cos(phi_instances)\n",
    "pym = p * np.sin(theta_instances)*np.sin(phi_instances)\n",
    "pzm = p * np.cos(theta_instances)\n",
    "\n",
    "pxam = -pxm\n",
    "pyam = -pym\n",
    "pzam = -pzm"
   ]
  },
  {
   "cell_type": "code",
   "execution_count": null,
   "metadata": {
    "scrolled": true
   },
   "outputs": [],
   "source": [
    "#Write the results to a file\n",
    "print(r'$\\sqrt(s)$',E)\n",
    "print('')\n",
    "print('Norm of p =',p)\n",
    "#file_name='muons_momentum_com.csv'\n",
    "#data=pd.read_csv(file_name)\n",
    "#data"
   ]
  },
  {
   "cell_type": "code",
   "execution_count": null,
   "metadata": {
    "scrolled": true
   },
   "outputs": [],
   "source": [
    "#Angular distribution (Insert some diagram with polar coordinates and the beam)\n",
    "\n",
    "\n",
    "\n",
    "\n",
    "fig, (ax1,ax2) = plt.subplots(nrows=1, ncols=2, figsize=(12, 4))\n",
    "\n",
    "n, bins, _ = ax1.hist(theta_instances, bins=50,color='orange', ec='black')\n",
    "ax1.set_title(r'$\\mu^+$', fontsize=20)\n",
    "ax1.set_xlabel(r'$\\theta$ [rad]', fontsize=20)\n",
    "ax1.set_ylabel('Count', fontsize=20)\n",
    "ax1.ticklabel_format(axis=\"y\", style=\"sci\", scilimits=(5,5))\n",
    "\n",
    "n, bins, _ = ax2.hist(phi_instances, bins=50,color='blue', ec='black')\n",
    "ax2.set_title(r'$\\mu^+$', fontsize=20)\n",
    "ax2.set_xlabel(r'$\\phi$ [rad]', fontsize=20)\n",
    "ax2.ticklabel_format(axis=\"y\", style=\"sci\", scilimits=(5,5))\n",
    "\n",
    "plt.show()"
   ]
  },
  {
   "cell_type": "code",
   "execution_count": null,
   "metadata": {
    "scrolled": true
   },
   "outputs": [],
   "source": [
    "fig, (ax1,ax2,ax3) = plt.subplots(nrows=1, ncols=3, figsize=(12, 4))\n",
    "\n",
    "n, bins, _ = ax1.hist(pxm, bins=50,color='orange', ec='grey')\n",
    "ax1.set_xlabel(r'$p_x$ [GeV]', fontsize=15)\n",
    "ax1.set_ylabel('Count', fontsize=15)\n",
    "ax1.ticklabel_format(axis=\"y\", style=\"sci\", scilimits=(5,5))\n",
    "ax1.xaxis.set_major_formatter(FormatStrFormatter('%.2f'))\n",
    "\n",
    "\n",
    "n, bins, _ = ax2.hist(pym, bins=50,color='orange', ec='grey')\n",
    "ax2.set_title(r'$\\mu^+$ momentum components in the center of mass frame', fontsize=15)\n",
    "ax2.set_xlabel(r'$p_y$ [GeV]', fontsize=15)\n",
    "ax2.ticklabel_format(axis=\"y\", style=\"sci\", scilimits=(5,5))\n",
    "ax2.xaxis.set_major_formatter(FormatStrFormatter('%.2f'))\n",
    "\n",
    "\n",
    "\n",
    "n, bins, _ = ax3.hist(pzm, bins=50,color='orange', ec='grey')\n",
    "ax3.set_xlabel(r'$p_z$ [GeV]', fontsize=15)\n",
    "ax3.ticklabel_format(axis=\"y\", style=\"sci\", scilimits=(5,5))\n",
    "ax3.xaxis.set_major_formatter(FormatStrFormatter('%.2f'))\n",
    "\n",
    "\n",
    "\n",
    "plt.show()"
   ]
  },
  {
   "cell_type": "code",
   "execution_count": null,
   "metadata": {
    "scrolled": false
   },
   "outputs": [],
   "source": [
    "fig, (ax1,ax2,ax3) = plt.subplots(nrows=1, ncols=3, figsize=(12, 4))\n",
    "\n",
    "n, bins, _ = ax1.hist(pxam, bins=50,color='b', ec='grey')\n",
    "ax1.set_xlabel(r'$p_x$ [GeV]', fontsize=15)\n",
    "ax1.set_ylabel('Count', fontsize=15)\n",
    "ax1.ticklabel_format(axis=\"y\", style=\"sci\", scilimits=(5,5))\n",
    "ax1.xaxis.set_major_formatter(FormatStrFormatter('%.2f'))\n",
    "\n",
    "n, bins, _ = ax2.hist(pyam, bins=50,color='blue', ec='grey')\n",
    "ax2.set_title(r'$\\mu^-$ momentum components in the center of mass frame', fontsize=15)\n",
    "ax2.set_xlabel(r'$p_y$ [GeV]', fontsize=15)\n",
    "ax2.ticklabel_format(axis=\"y\", style=\"sci\", scilimits=(5,5))\n",
    "ax2.xaxis.set_major_formatter(FormatStrFormatter('%.2f'))\n",
    "\n",
    "\n",
    "n, bins, _ = ax3.hist(pzam, bins=50,color='blue', ec='grey')\n",
    "ax3.set_xlabel(r'$p_z$ [GeV]', fontsize=15)\n",
    "ax3.ticklabel_format(axis=\"y\", style=\"sci\", scilimits=(5,5))\n",
    "ax3.xaxis.set_major_formatter(FormatStrFormatter('%.2f'))\n",
    "\n",
    "\n",
    "plt.show()"
   ]
  },
  {
   "cell_type": "code",
   "execution_count": null,
   "metadata": {},
   "outputs": [],
   "source": [
    "#Inser Pandas table with some statistics\n",
    "\n",
    "\n"
   ]
  },
  {
   "cell_type": "code",
   "execution_count": null,
   "metadata": {},
   "outputs": [],
   "source": [
    "#THEORY, what Saverio wrote but in the other frame with the electron moving toward the CM wit V=Vz\n"
   ]
  },
  {
   "cell_type": "markdown",
   "metadata": {},
   "source": [
    "<img src=\"img/comframe.svg\" width=\"600\" style=\"float: left;\">"
   ]
  },
  {
   "cell_type": "markdown",
   "metadata": {},
   "source": [
    "The Lab frame is the frame where the electrons are at rest (in a target), in order to transpose the problem in this other frame, it is important to consider special relativity in the calculations, being the electron and positron highly energetic (in order to produce the muon pair)\n",
    "\n",
    "The generic boost in a frame moving with velocity $u$ in the z direction is:\n",
    "\n",
    "$$\\Lambda = \\left(\\begin{array}{c}\n",
    "           \\gamma & 0 & 0 & -u\\gamma \\\\\n",
    "           0 & 1  & 0 & 0 \\\\\n",
    "           0    &  0      & 1 & 0 \\\\\n",
    "           -u\\gamma     &  0       & 0 & \\gamma \\\\ \n",
    "\\end{array}\\right)$$\n",
    "\n",
    "In our case since the velocity is negative, the Lorentz Matrix for the electron moving at velocity $v$ in the CoM frame is:\n",
    "\n",
    "$$\\Lambda = \\left(\\begin{array}{c}\n",
    "           \\gamma & 0 & 0 & v\\gamma \\\\\n",
    "           0 & 1  & 0 & 0 \\\\\n",
    "           0    &  0      & 1 & 0 \\\\\n",
    "           v\\gamma     &  0       & 0 & \\gamma \\\\ \n",
    "\\end{array}\\right)$$\n",
    "\n",
    "Since the electron in moving exclusively in the $z$ direction in the CoM frame, we can derive it's velocity from the definition of relativistic momentum:\n",
    "$$p=m_e\\gamma v\\to v\\gamma = \\frac{p}{m_e}\\to \\frac{v}{\\sqrt{1-v^2}}=\\frac{p}{m_e}\\to v= \\frac{p}{m_e\\sqrt{1+\\frac{p^2}{m_e^2}}}=\\frac{p}{\\sqrt{m_e^2 + p^2}}$$\n",
    "\n",
    "Notice that the energy of the particle in the COM is $E_p=\\sqrt{m_e^2+p^2}$ (the denominator)\n",
    "\n",
    "$$\\begin{cases}E_p^2=m_e^2+p^2\\\\ E^2_{CM}=4m_e^2+4p^2\\end{cases}$$\n",
    "\n",
    "then v becomes:\n",
    "$$v=\\sqrt{  \\frac{E^2_{CM}-4m_e^2}{E^2_{CM}}  }$$"
   ]
  },
  {
   "cell_type": "code",
   "execution_count": null,
   "metadata": {},
   "outputs": [],
   "source": [
    "################################################"
   ]
  },
  {
   "cell_type": "markdown",
   "metadata": {},
   "source": [
    "To boost from the CoM frame to the Lab frame the Lorentz matrix is the following:\n",
    "\n",
    "$$\\Lambda = \\left(\\begin{array}{c}\n",
    "           \\gamma & 0 & 0 & v\\gamma \\\\\n",
    "           0 & 1  & 0 & 0 \\\\\n",
    "           0    &  0      & 1 & 0 \\\\\n",
    "           v\\gamma     &  0       & 0 & \\gamma \\\\ \n",
    "\\end{array}\\right),\\qquad\\qquad v=\\sqrt{  \\frac{E^2_{CM}-4m_e^2}{E^2_{CM}}  }$$\n",
    "\n",
    "To get the momenta of the muons in the Lab frame we need to apply the Lorentz matrix to their 4-momenta:\n",
    "\n",
    "$$\\Lambda^\\mu_\\nu P^\\nu = P'^\\mu$$\n",
    "\n",
    "Where $P^\\nu$ is the 4 momentum before the boosting (in the COM frame) and $P'^\\nu$ is the 4 momentum after the boosting (in the LAB frame)\n",
    "\n",
    "$$P=\\left(\\begin{array}{c}m\\gamma \\\\ 0 \\\\ p\\sin\\vartheta \\\\ p\\cos\\vartheta\\end{array}\\right)$$\n",
    "\n",
    "$$P'=\\left(\\begin{array}{c}\n",
    "           \\gamma & 0 & 0 & v\\gamma \\\\\n",
    "           0 & 1  & 0 & 0 \\\\\n",
    "           0    &  0      & 1 & 0 \\\\\n",
    "           v\\gamma     &  0       & 0 & \\gamma \\\\ \n",
    "\\end{array}\\right)\\left(\\begin{array}{c}m\\gamma \\\\ 0 \\\\ p\\sin\\vartheta \\\\ p\\cos\\vartheta\\end{array}\\right)=\\left(\\begin{array}{c}m\\gamma^2 + \\gamma vp\\cos\\vartheta \\\\ 0 \\\\ p\\sin\\vartheta\\\\ m\\gamma^2 v + \\gamma p\\cos\\vartheta \\end{array}\\right)$$\n",
    "\n",
    "From here we can get the relationship $\\vartheta\\leftrightarrow\\vartheta'$ the angle of the scattered particle before and after the boosts:\n",
    "\n",
    "$$\\begin{cases}\n",
    "    m\\gamma^2v+\\gamma p\\cos\\vartheta = p'\\cos\\vartheta' \\\\\n",
    "    p\\sin\\vartheta = p\\sin\\vartheta'\n",
    "\\end{cases}$$\n",
    "\n",
    "Writing $m\\gamma^2 v$ as $\\gamma p$ we have\n",
    "\n",
    "$$\\begin{cases}\n",
    "    \\gamma p +\\gamma p\\cos\\vartheta = p'\\cos\\vartheta' \\\\\n",
    "    p\\sin\\vartheta = p\\sin\\vartheta'\n",
    "\\end{cases}$$\n",
    "\n",
    "Dividing the first to the second we get:\n",
    " $$\\tan\\vartheta'=\\frac{1}{\\gamma}\\left(\\frac{\\sin\\vartheta}{1+\\cos\\vartheta}\\right)$$"
   ]
  },
  {
   "cell_type": "code",
   "execution_count": null,
   "metadata": {},
   "outputs": [],
   "source": [
    "#Boost the results to the laboratory frame\n",
    "\n",
    "vz = -np.sqrt(1-4*electron_mass**2/E**2)   \n",
    "gamma = 1/np.sqrt(1-vz**2)"
   ]
  },
  {
   "cell_type": "code",
   "execution_count": null,
   "metadata": {},
   "outputs": [],
   "source": [
    "print('gamma',gamma)\n",
    "print('vz',vz)"
   ]
  },
  {
   "cell_type": "code",
   "execution_count": null,
   "metadata": {},
   "outputs": [],
   "source": [
    "pxm_lb = pxm\n",
    "pym_lb = pym\n",
    "pzm_lb = gamma * pzm - vz * gamma *E/2 \n",
    "\n",
    "pxam_lb = pxam \n",
    "pyam_lb = pyam\n",
    "pzam_lb = gamma * pzam - vz * gamma *E/2"
   ]
  },
  {
   "cell_type": "code",
   "execution_count": null,
   "metadata": {},
   "outputs": [],
   "source": [
    "#Check the file\n",
    "print(r'$\\sqrt(s)$',E)\n",
    "print('')\n",
    "print('Norm of p =',p)\n",
    "#file_name='/home/usuario/PoD/muons_momentum_lab.csv'\n",
    "#data=pd.read_csv(file_name)\n",
    "#data"
   ]
  },
  {
   "cell_type": "code",
   "execution_count": null,
   "metadata": {
    "scrolled": true
   },
   "outputs": [],
   "source": [
    "fig, (ax1,ax2,ax3) = plt.subplots(nrows=1, ncols=3, figsize=(12, 4))\n",
    "\n",
    "n, bins, _ = ax1.hist(pxm_lb, bins=50,color='orange', ec='grey')\n",
    "ax1.set_xlabel(r'$p_x$ [GeV]', fontsize=15)\n",
    "ax1.set_ylabel('Count', fontsize=15)\n",
    "ax1.ticklabel_format(axis=\"y\", style=\"sci\", scilimits=(5,5))\n",
    "ax1.xaxis.set_major_formatter(FormatStrFormatter('%.2f'))\n",
    "\n",
    "\n",
    "n, bins, _ = ax2.hist(pym_lb, bins=50,color='orange', ec='grey')\n",
    "ax2.set_title(r'$\\mu^+$ momentum components in the laboratory frame', fontsize=15)\n",
    "ax2.set_xlabel(r'$p_y$ [GeV]', fontsize=15)\n",
    "ax2.ticklabel_format(axis=\"y\", style=\"sci\", scilimits=(5,5))\n",
    "ax2.xaxis.set_major_formatter(FormatStrFormatter('%.2f'))\n",
    "\n",
    "\n",
    "\n",
    "n, bins, _ = ax3.hist(pzm_lb, bins=50,color='orange', ec='grey')\n",
    "ax3.set_xlabel(r'$p_z$ [GeV]', fontsize=15)\n",
    "ax3.ticklabel_format(axis=\"y\", style=\"sci\", scilimits=(5,5))\n",
    "#ax3.xaxis.set_major_formatter(FormatStrFormatter('%.0f'))\n",
    "\n",
    "\n",
    "\n",
    "plt.show()"
   ]
  },
  {
   "cell_type": "code",
   "execution_count": null,
   "metadata": {
    "scrolled": true
   },
   "outputs": [],
   "source": [
    "fig, (ax1,ax2,ax3) = plt.subplots(nrows=1, ncols=3, figsize=(12, 4))\n",
    "\n",
    "n, bins, _ = ax1.hist(pxam_lb, bins=50,color='blue', ec='grey')\n",
    "ax1.set_xlabel(r'$p_x$ [GeV]', fontsize=15)\n",
    "ax1.set_ylabel('Count', fontsize=15)\n",
    "ax1.ticklabel_format(axis=\"y\", style=\"sci\", scilimits=(5,5))\n",
    "ax1.xaxis.set_major_formatter(FormatStrFormatter('%.2f'))\n",
    "\n",
    "\n",
    "n, bins, _ = ax2.hist(pyam_lb, bins=50,color='blue', ec='grey')\n",
    "ax2.set_title(r'$\\mu^-$ momentum components in the laboratory frame', fontsize=15)\n",
    "ax2.set_xlabel(r'$p_y$ [GeV]', fontsize=15)\n",
    "ax2.ticklabel_format(axis=\"y\", style=\"sci\", scilimits=(5,5))\n",
    "ax2.xaxis.set_major_formatter(FormatStrFormatter('%.2f'))\n",
    "\n",
    "\n",
    "\n",
    "n, bins, _ = ax3.hist(pzam_lb, bins=50,color='blue', ec='grey')\n",
    "ax3.set_xlabel(r'$p_z$ [GeV]', fontsize=15)\n",
    "ax3.ticklabel_format(axis=\"y\", style=\"sci\", scilimits=(5,5))\n",
    "ax3.xaxis.set_major_formatter(FormatStrFormatter('%.0f'))\n",
    "\n",
    "\n",
    "\n",
    "plt.show()"
   ]
  },
  {
   "cell_type": "code",
   "execution_count": null,
   "metadata": {},
   "outputs": [],
   "source": [
    "#Inser Pandas table with some statistics\n",
    "\n",
    "\n",
    "\n",
    "\n"
   ]
  },
  {
   "cell_type": "code",
   "execution_count": null,
   "metadata": {
    "scrolled": false
   },
   "outputs": [],
   "source": [
    "#Reconstruction of the angular distribution from the momenta\n",
    "#It means that the beam is concentrated in an arc of 0.04°\n",
    "fig, (ax1,ax2) = plt.subplots(nrows=1, ncols=2, figsize=(12, 4))\n",
    "\n",
    "theta_lb = np.arccos(pzm_lb/np.sqrt(pxm_lb**2+pym_lb**2+pzm_lb**2))\n",
    "\n",
    "n, bins, _ = ax1.hist(theta_lb, bins=100,color='orange', ec='black')\n",
    "ax1.set_title(r'$\\mu^+$', fontsize=20)\n",
    "ax1.set_xlabel(r'$\\theta$ [rad]', fontsize=20)\n",
    "ax1.set_ylabel('Count', fontsize=20)\n",
    "ax1.ticklabel_format(axis=\"y\", style=\"sci\", scilimits=(5,5))\n",
    "\n",
    "\n",
    "phi_lb = np.arctan2(pym_lb,pxm_lb)\n",
    "\n",
    "n, bins, _ = ax2.hist(phi_lb, bins=100,color='blue', ec='black')\n",
    "ax2.set_title(r'$\\mu^+$', fontsize=20)\n",
    "ax2.set_xlabel(r'$\\phi$ [rad]', fontsize=20)\n",
    "ax2.set_ylabel('Count', fontsize=20)\n",
    "ax2.ticklabel_format(axis=\"y\", style=\"sci\", scilimits=(5,5))\n",
    "\n",
    "plt.show()\n"
   ]
  },
  {
   "cell_type": "code",
   "execution_count": null,
   "metadata": {},
   "outputs": [],
   "source": [
    "p_cm = -E**2/4 + pxm**2+pym**2+pzm**2\n",
    "print('Squared four momentum in the CM frame',p_cm)\n",
    "\n",
    "E_lb = gamma*(E/2-pzm*vz)\n",
    "p_lb = -E_lb**2 + pxm_lb**2+pym_lb**2+pzm_lb**2\n",
    "print('Squared four momentum in the LB frame',p_lb)\n",
    "\n",
    "print('Muon energy in the laboratory frame',E_lb)"
   ]
  },
  {
   "cell_type": "code",
   "execution_count": null,
   "metadata": {},
   "outputs": [],
   "source": [
    "#Write the results to a file \n",
    "\n",
    "s1_muons_com = pd.DataFrame({'Theta' : theta_instances,'Phi' : phi_instances,'Muon px' : pxm, 'Muon py' : pym, 'Muon pz' : pzm})\n",
    "#s1_muons_com.to_csv('s1_muons_momentum_com.csv', index=False)\n",
    "\n",
    "s1_muons_lab = pd.DataFrame({'Theta' : theta_lb,'Phi' : phi_lb,'Muon px' : pxm_lb, 'Muon py' : pym_lb, 'Muon pz' : pzm_lb})\n",
    "#s1_muons_lab.to_csv('s1_muons_momentum_lab.csv', index=False)"
   ]
  },
  {
   "cell_type": "code",
   "execution_count": null,
   "metadata": {},
   "outputs": [],
   "source": [
    "#Inser 3d plot of a sphere with a heatmam"
   ]
  },
  {
   "cell_type": "code",
   "execution_count": null,
   "metadata": {},
   "outputs": [],
   "source": [
    "#\n",
    "###\n",
    "####\n",
    "#####\n",
    "######\n",
    "#######\n",
    "######\n",
    "#####\n",
    "###\n",
    "##\n",
    "#"
   ]
  },
  {
   "cell_type": "markdown",
   "metadata": {},
   "source": [
    "## Introduce somo realistic properties to the target \n",
    "6. assume a $3$ cm thick Beryllium block is used as target and a rate of positron on target of $10^6$ Hz. Compute the rescaling factor (weight) you need to apply to the $N$ simulated events such that they represent the statistics that would be gathered in a week of countinuous operations;\n"
   ]
  },
  {
   "cell_type": "markdown",
   "metadata": {},
   "source": [
    "The number of $\\mu^+ \\mu^-$ pairs produced per positron on the target is given by:\n",
    "\n",
    "\n",
    "$$n(\\mu^+ \\mu^-) = n^+ \\rho^- l \\sigma(\\mu^+ \\mu^-)$$\n",
    "\n",
    "\n",
    "where $n^+$ is the number of positrons, $\\rho^-$ is the electron density in the medium, $l$ is the thickness of the target, and $\\sigma(\\mu^+ \\mu^-)$ is the muon pairs production cross section. [Antonelli]\n",
    "\n",
    "\n",
    "\n"
   ]
  },
  {
   "cell_type": "code",
   "execution_count": null,
   "metadata": {
    "scrolled": true
   },
   "outputs": [],
   "source": [
    "#We build a dataframe with some material properties to be analysed\n",
    "\n",
    "Material = ['H',    'He',   'Li',  'Be',    'B',    'C',     'Cu',   'W',    'Pb']\n",
    "Z        = [ 1 ,     2,      3,     4,       5,      6,       29,     74,     82]\n",
    "A        = [1.00794, 4.0026, 6.941, 9.01218, 10.811, 12.0107, 63.546, 183.84, 207.2]\n",
    "X0       = [900.6,   786,    156.2, 35.2,    22.2,   21.4,    1.4,    0.4,    0.6]\n",
    "\n",
    "properties_dic = {'Material': Material, 'Z': Z, 'A': A, 'X0': X0}\n",
    "properties = pd.DataFrame(data=properties_dic)\n",
    "properties\n"
   ]
  },
  {
   "cell_type": "code",
   "execution_count": null,
   "metadata": {},
   "outputs": [],
   "source": [
    "######\n",
    "#Realistic target\n",
    "positron_frequency = 1.e6                    #[Hz]\n",
    "target_length      = 3                       #[cm]\n",
    "cs                 = cros_section(E)*10.e-31 #[uBarn]--> [cm^2]\n",
    "time               = 60 * 60 *24 *7          #[secconds]\n",
    "\n",
    "\n",
    "properties['L'] = target_length\n",
    "properties['Cross section'] = cs\n",
    "\n",
    "\n",
    "#Number of positrons \n",
    "N_positrons = positron_frequency * time \n",
    "\n",
    "#Number of muons\n",
    "properties['N_muons'] = N_positrons * (properties['Z']*Avogadro_number/properties['A']) * properties['Cross section'] * properties['L']\n",
    "\n",
    "#Weight\n",
    "rf = properties.at[3,'N_muons']/N\n",
    "####"
   ]
  },
  {
   "cell_type": "code",
   "execution_count": null,
   "metadata": {},
   "outputs": [],
   "source": [
    "properties"
   ]
  },
  {
   "cell_type": "code",
   "execution_count": null,
   "metadata": {},
   "outputs": [],
   "source": [
    "print('Number of positrons produced in a week                                 '\"{:.2e}\".format( N_positrons))\n",
    "print('')\n",
    "print('Number of simulated events                                             '\"{:.2e}\".format( N ))\n",
    "print('')\n",
    "print('Rescaling factor if using Be as a target', rf)\n",
    "print('')\n",
    "print('Number of muons produced after a week using Be as a target             '\"{:.2e}\".format( properties.at[3,'N_muons']))"
   ]
  },
  {
   "cell_type": "code",
   "execution_count": null,
   "metadata": {},
   "outputs": [],
   "source": [
    "#\n",
    "###\n",
    "####\n",
    "#####\n",
    "######\n",
    "####### \n",
    "######\n",
    "#####\n",
    "###\n",
    "##\n",
    "#"
   ]
  },
  {
   "cell_type": "markdown",
   "metadata": {},
   "source": [
    "## Introduce somo realistic properties to  the beam\n",
    "7. repeat what done so far simulating now the actual transverse shape and energy spread of the beam: for the former assume a flat distribution in a circle of radius $r=1$ cm and for the latter a gaussian distribution centered at the nominal beam energy and a width of $0.5$ GeV;"
   ]
  },
  {
   "cell_type": "code",
   "execution_count": null,
   "metadata": {},
   "outputs": [],
   "source": [
    "##################################################################################\n",
    "#Simulation parameters\n",
    "\n",
    "N = 10**7  #Number of positrons\n",
    "E_lab = 45  #GeV\n",
    "sigma = 0.5 # mean and standard deviation\n",
    "\n",
    "###################################################################################"
   ]
  },
  {
   "cell_type": "code",
   "execution_count": null,
   "metadata": {},
   "outputs": [],
   "source": [
    "#Realistic beam\n",
    "#Up to this point we have been asuming that the energy of the incident \n",
    "#beam had a constant value, now we want to make a model where the energy\n",
    "#of the beam has a gaussian distribution.\n",
    "\n",
    "E_lab_instances = np.random.normal(E_lab, sigma, N)\n",
    "\n",
    "#Now we need to boost them to the CoM frame\n",
    "vz    = np.sqrt((E_lab-electron_mass)/(E_lab+electron_mass))\n",
    "gamma = 1/np.sqrt(1-vz**2)\n",
    "\n",
    "E_cm_instances = 2 *gamma*(E_lab_instances-vz*np.sqrt(E_lab_instances**2-electron_mass**2))"
   ]
  },
  {
   "cell_type": "code",
   "execution_count": null,
   "metadata": {
    "scrolled": true
   },
   "outputs": [],
   "source": [
    "# Plot scaled histogram\n",
    "fig, (ax1,ax2) = plt.subplots(nrows=2, ncols=1, figsize=(12, 10))\n",
    "\n",
    "n, bins, _ = ax1.hist(E_lab_instances, bins=90,color='orange', ec='black')\n",
    "\n",
    "d = (bins[1]-bins[0])\n",
    "scaling = d * n.sum()\n",
    "\n",
    "ax1.plot(bins, scaling/(sigma * np.sqrt(2 * np.pi)) *np.exp( - (bins - E_lab)**2 / (2 * sigma**2) ),color='blue', label='Gaussian distribution media= sigma=')\n",
    "\n",
    "ax1.set_title('Positron beam energy distribution in the Lab frame', fontsize=15)\n",
    "ax1.set_xlabel(' Energy [GeV]', fontsize=15)\n",
    "ax1.set_ylabel('Count', fontsize=15)\n",
    "ax1.legend()\n",
    "\n",
    "n, bins, _ = ax2.hist(E_cm_instances, bins=90,color='orange', ec='black')\n",
    "\n",
    "d = (bins[1]-bins[0])\n",
    "scaling = d * n.sum()\n",
    "\n",
    "ax2.axvline(x=2*muon_mass, label='Threshold energy')\n",
    "#ax2.plot(bins, scaling/(sigma * np.sqrt(2 * np.pi)) *np.exp( - (bins - E_lab)**2 / (2 * sigma**2) ),color='blue', label='PDF')\n",
    "ax2.set_title('Positron beam energy distribution in the CoM frame', fontsize=15)\n",
    "ax2.set_xlabel(' Energy [GeV]', fontsize=15)\n",
    "ax2.set_ylabel('Count', fontsize=15)\n",
    "ax2.legend()\n",
    "\n",
    "\n",
    "\n",
    "\n",
    "plt.show()"
   ]
  },
  {
   "cell_type": "code",
   "execution_count": null,
   "metadata": {
    "scrolled": true
   },
   "outputs": [],
   "source": [
    "#Once we have the energy distribution plot a heatmap of the beam\n",
    "\n",
    "def circular_section(data):\n",
    "    \n",
    "    # specify circle parameters: centre ij and radius\n",
    "    pixels =len(data[0,:])\n",
    "    ci,cj = pixels/2 , pixels/2\n",
    "    cr=pixels/3\n",
    "\n",
    "    # Create index arrays to z\n",
    "    I,J=np.meshgrid(np.arange(data.shape[0]),np.arange(data.shape[1]))\n",
    "\n",
    "    # calculate distance of all points to centre\n",
    "    dist=np.sqrt((I-ci)**2+(J-cj)**2)\n",
    "\n",
    "    # Assign value of 1 to those points where dist<cr:\n",
    "    data[np.where(dist>cr)]=0\n",
    "    return data\n",
    "\n",
    "\n",
    "\n",
    "pixels=300\n",
    "size  =(-1.5,1.5,-1.5,1.5)\n",
    "\n",
    "# We randomly pick (pixel x pixels) elements of the energy distribution to plot the beam cross section\n",
    "\n",
    "z = np.random.choice(E_lab_instances, size=(pixels,pixels), replace=True, p=None) \n",
    "\n",
    "\n",
    "plt.rcParams[\"figure.figsize\"] = (8,8)\n",
    "plt.imshow(circular_section(z),cmap='plasma', extent=(size),origin='lower')\n",
    "plt.title('Positron beam cross section',fontsize=17)\n",
    "plt.ylabel(r'${y}$ [cm]',fontsize=17)  \n",
    "plt.xlabel(r'${x}$ [cm]',fontsize=17)\n",
    "plt.colorbar()\n",
    "plt.clim(np.min(E_lab_instances),np.max(E_lab_instances))\n",
    "plt.show()"
   ]
  },
  {
   "cell_type": "code",
   "execution_count": null,
   "metadata": {},
   "outputs": [],
   "source": [
    "#\n",
    "###\n",
    "####\n",
    "#####\n",
    "######\n",
    "####### SIMULATION 2\n",
    "######\n",
    "#####\n",
    "###\n",
    "##\n",
    "#"
   ]
  },
  {
   "cell_type": "code",
   "execution_count": null,
   "metadata": {},
   "outputs": [],
   "source": [
    "##################################################################################\n",
    "#Simulation parameters\n",
    "\n",
    "N     = 10**6 #Number of positrons \n",
    "E_lab = 45    #GeV\n",
    "sigma = 0.5   # mean and standard deviation\n",
    "\n",
    "###################################################################################"
   ]
  },
  {
   "cell_type": "code",
   "execution_count": null,
   "metadata": {},
   "outputs": [],
   "source": [
    "##Now that we have the energy distributions and also an idea of the shape\n",
    "##we can repeat the previous part\n",
    "\n",
    "#Obtain the positron energy samples in the laboratory frame\n",
    "E_lab_samples = np.random.normal(E_lab, sigma, N)\n",
    "\n",
    "#Boost of the positrons energy to the Center of Mass Frame\n",
    "vz    = np.sqrt((E_lab-electron_mass)/(E_lab+electron_mass))   \n",
    "gamma = 1/np.sqrt(1-vz**2)\n",
    "\n",
    "E_cm_samples = 2 *gamma*(E_lab_samples-vz*np.sqrt(E_lab_samples**2-electron_mass**2))\n",
    "\n",
    "#Filter the values below the threshold\n",
    "E_cm_samples = E_cm_samples[E_cm_samples> 2* muon_mass]\n",
    "\n",
    "N_instances = len(E_cm_samples)\n",
    "\n",
    "#######################\n",
    "# DEPRECATED\n",
    "#EXTREMELY INEFICIENT METHOD TO GET THETA takes around 25 minutes for 10**5 positrons\n",
    "#theta_cm_instances = np.arange(0,0)\n",
    "#for i in range(0,N_instances):\n",
    "#    theta_cm_instances = np.append(theta_cm_instances,np.random.choice(accept_reject(10**5,#pdf_theta_normalized,box,E_cm_samples[i])))\n",
    "\n",
    "theta_cm_instances = inv_cdf(E_cm_samples,np.random.random(N_instances))\n",
    "\n",
    "phi_cm_instances   = np.random.uniform(0., 2*np.pi, N_instances)"
   ]
  },
  {
   "cell_type": "code",
   "execution_count": null,
   "metadata": {},
   "outputs": [],
   "source": [
    "#Calculate the total momentum p       CM\n",
    "#Calculate the momentum components in CM\n",
    "p_cm_instances = np.sqrt(E_cm_samples**2/4-muon_mass**2)\n",
    "\n",
    "pxm_cm = p_cm_instances * np.sin(theta_cm_instances)*np.cos(phi_cm_instances)\n",
    "pym_cm = p_cm_instances * np.sin(theta_cm_instances)*np.sin(phi_cm_instances)\n",
    "pzm_cm = p_cm_instances * np.cos(theta_cm_instances)\n",
    "\n",
    "#Calculate the momentum components in LAB\n",
    "vz = -np.sqrt(1-4*electron_mass**2/E_cm_samples**2)   \n",
    "gamma = 1/np.sqrt(1-vz**2)\n",
    "\n",
    "pxm_lb = pxm_cm\n",
    "pym_lb = pym_cm\n",
    "pzm_lb = gamma * pzm_cm - vz * gamma *E_cm_samples/2\n",
    "\n",
    "#Calculate the total momentum p       LAB\n",
    "#Obtain the angles thet and phi       LAB\n",
    "p_lb_instances = np.sqrt(pxm_lb**2 + pym_lb**2 + pzm_lb**2)\n",
    "\n",
    "theta_lb_instances = np.arccos(pzm_lb/p_lb_instances)\n",
    "phi_lb_instances   = np.arctan2(pym_lb,pxm_lb)"
   ]
  },
  {
   "cell_type": "code",
   "execution_count": null,
   "metadata": {},
   "outputs": [],
   "source": [
    "#Plot of the spherical angle  distributions in each frame\n",
    "\n",
    "fig, ((ax1, ax2), (ax3, ax4)) = plt.subplots(nrows=2, ncols=2, figsize=(12, 12))\n",
    "\n",
    "n, bins, _ = ax1.hist(theta_cm_instances, bins=50,color='orange', ec='black')\n",
    "ax1.set_title(r'$\\mu^+$', fontsize=15)\n",
    "ax1.set_xlabel(r'$\\theta$ [rad]', fontsize=15)\n",
    "ax1.set_ylabel('Count', fontsize=15)\n",
    "#ax1.ticklabel_format(axis=\"y\", style=\"sci\", scilimits=(5,5))\n",
    "\n",
    "n, bins, _ = ax2.hist(phi_cm_instances, bins=50,color='blue', ec='black')\n",
    "ax2.set_title(r'$\\mu^+$', fontsize=15)\n",
    "ax2.set_xlabel(r'$\\phi$ [rad]', fontsize=15)\n",
    "#ax2.ticklabel_format(axis=\"y\", style=\"sci\", scilimits=(5,5))\n",
    "\n",
    "n, bins, _ = ax3.hist(theta_lb_instances, bins=50,color='orange', ec='black')\n",
    "ax3.set_title(r'$\\mu^+$', fontsize=15)\n",
    "ax3.set_xlabel(r'$\\theta$ [rad]', fontsize=15)\n",
    "ax3.set_ylabel('Count', fontsize=15)\n",
    "#ax3.ticklabel_format(axis=\"y\", style=\"sci\", scilimits=(5,5))\n",
    "\n",
    "n, bins, _ = ax4.hist(phi_lb_instances, bins=50,color='blue', ec='black')\n",
    "ax4.set_title(r'$\\mu^+$', fontsize=15)\n",
    "ax4.set_xlabel(r'$\\phi$ [rad]', fontsize=15)\n",
    "ax4.set_ylabel('Count', fontsize=15)\n",
    "#ax4.ticklabel_format(axis=\"y\", style=\"sci\", scilimits=(5,5))\n",
    "\n",
    "plt.show()"
   ]
  },
  {
   "cell_type": "code",
   "execution_count": null,
   "metadata": {},
   "outputs": [],
   "source": [
    "#Momentum distribution in the LAB frame\n",
    "fig, ((ax1,ax2,ax3),(ax4,ax5,ax6)) = plt.subplots(nrows=2, ncols=3, figsize=(12, 12))\n",
    "\n",
    "n, bins, _ = ax1.hist(pxm_cm, bins=50,color='orange', ec='grey')\n",
    "ax1.set_xlabel(r'$p_x$ [GeV]', fontsize=15)\n",
    "ax1.set_ylabel('Count', fontsize=15)\n",
    "#ax1.ticklabel_format(axis=\"y\", style=\"sci\", scilimits=(5,5))\n",
    "ax1.xaxis.set_major_formatter(FormatStrFormatter('%.2f'))\n",
    "\n",
    "\n",
    "n, bins, _ = ax2.hist(pym_cm, bins=50,color='orange', ec='grey')\n",
    "ax2.set_title(r'$\\mu^+$ momentum components in the CoM frame', fontsize=15)\n",
    "ax2.set_xlabel(r'$p_y$ [GeV]', fontsize=15)\n",
    "#ax2.ticklabel_format(axis=\"y\", style=\"sci\", scilimits=(5,5))\n",
    "ax2.xaxis.set_major_formatter(FormatStrFormatter('%.2f'))\n",
    "\n",
    "\n",
    "\n",
    "n, bins, _ = ax3.hist(pzm_cm, bins=50,color='orange', ec='grey')\n",
    "ax3.set_xlabel(r'$p_z$ [GeV]', fontsize=15)\n",
    "#ax3.ticklabel_format(axis=\"y\", style=\"sci\", scilimits=(5,5))\n",
    "#ax3.xaxis.set_major_formatter(FormatStrFormatter('%.0f'))\n",
    "\n",
    "\n",
    "n, bins, _ = ax4.hist(pxm_lb, bins=50,color='dodgerblue', ec='grey')\n",
    "ax4.set_xlabel(r'$p_x$ [GeV]', fontsize=15)\n",
    "ax4.set_ylabel('Count', fontsize=15)\n",
    "#ax4.ticklabel_format(axis=\"y\", style=\"sci\", scilimits=(5,5))\n",
    "ax4.xaxis.set_major_formatter(FormatStrFormatter('%.2f'))\n",
    "\n",
    "\n",
    "n, bins, _ = ax5.hist(pym_lb, bins=50,color='dodgerblue', ec='grey')\n",
    "ax5.set_title(r'$\\mu^+$ momentum components in the LAB frame', fontsize=15)\n",
    "ax5.set_xlabel(r'$p_y$ [GeV]', fontsize=15)\n",
    "#ax5.ticklabel_format(axis=\"y\", style=\"sci\", scilimits=(5,5))\n",
    "ax5.xaxis.set_major_formatter(FormatStrFormatter('%.2f'))\n",
    "\n",
    "\n",
    "\n",
    "n, bins, _ = ax6.hist(pzm_lb, bins=50,color='dodgerblue', ec='grey')\n",
    "ax6.set_xlabel(r'$p_z$ [GeV]', fontsize=15)\n",
    "#ax6.ticklabel_format(axis=\"y\", style=\"sci\", scilimits=(5,5))\n",
    "#ax3.xaxis.set_major_formatter(FormatStrFormatter('%.0f'))\n",
    "\n",
    "\n",
    "\n",
    "plt.show()"
   ]
  },
  {
   "cell_type": "code",
   "execution_count": null,
   "metadata": {},
   "outputs": [],
   "source": [
    "#Write the results to a file \n",
    "\n",
    "s2_muons_com = pd.DataFrame({'Theta' : theta_cm_instances,'Phi' : phi_cm_instances,'Muon px' : pxm_cm, 'Muon py' : pym_cm, 'Muon pz' : pzm_cm})\n",
    "#s2_muons_com.to_csv('s2_muons_momentum_com.csv', index=False)\n",
    "\n",
    "s2_muons_lab = pd.DataFrame({'Theta' : theta_lb_instances,'Phi' : phi_lb_instances,'Muon px' : pxm_lb, 'Muon py' : pym_lb, 'Muon pz' : pzm_lb})\n",
    "#s2_muons_lab.to_csv('s2_muons_momentum_lab.csv', index=False)"
   ]
  },
  {
   "cell_type": "code",
   "execution_count": null,
   "metadata": {},
   "outputs": [],
   "source": [
    "#I would like to plot a sphere with a heatmap showing the muons distribution"
   ]
  },
  {
   "cell_type": "markdown",
   "metadata": {},
   "source": [
    "## Aditional considerations\n",
    "\n",
    "8. given that the electrons traversing the target lose energy as $E(z)=E_0 \\exp{-z/X_0}$ (with z the longitudinal coordinate of the target, the one parallel to the beam direction and $X_0$ is the Beryllium radiation length), compute the nominal beam energy $E_0$ such that muon pairs can be generated along the whole length of the target;\n",
    "9. (optional) take the former point into account when generating the events (i.e. the proccess $\\sqrt{s}$ depend on the position along the target where the $e^+ - e^-$ scattering occurrs.\n",
    "\n"
   ]
  },
  {
   "cell_type": "code",
   "execution_count": null,
   "metadata": {},
   "outputs": [],
   "source": [
    "#Plots of energy decay for different materials\n",
    "x = np.linspace(0,3,num=100)\n",
    "for i in range(0,8):\n",
    "    plt.plot(x, 45 * np.exp(-x/properties.at[i,'X0']),label = properties.at[i,'Material'])\n",
    "plt.title('Energy decay for different materials', fontsize=15)\n",
    "plt.xlabel('Penetration distance [cm]', fontsize=15)\n",
    "plt.ylabel('Energy [Gev]', fontsize=15)\n",
    "plt.legend()\n",
    "plt.show()"
   ]
  },
  {
   "cell_type": "code",
   "execution_count": null,
   "metadata": {},
   "outputs": [],
   "source": [
    "#\n",
    "###\n",
    "####\n",
    "#####\n",
    "######\n",
    "####### SIMULATION 3\n",
    "######\n",
    "#####\n",
    "###\n",
    "##\n",
    "#"
   ]
  },
  {
   "cell_type": "code",
   "execution_count": null,
   "metadata": {},
   "outputs": [],
   "source": [
    "##################################################################################\n",
    "#Simulation parameters\n",
    "\n",
    "N     = 10**6 #Number of positrons\n",
    "E_lab = 45    #[GeV]\n",
    "sigma = 0.5   # mean and standard deviation\n",
    "\n",
    "###################################################################################"
   ]
  },
  {
   "cell_type": "code",
   "execution_count": null,
   "metadata": {},
   "outputs": [],
   "source": [
    "E0_cm = 2 *muon_mass/np.exp(-target_length/properties.at[3,'X0'])\n",
    "\n",
    "print('Beryllium radiation length',properties.at[3,'X0'],'Cm')\n",
    "print('Nominal beam energy in the CoM frame',E0_cm, 'GeV')\n",
    "print('')\n",
    "\n",
    "vz = -np.sqrt(1-4*electron_mass**2/E0_cm**2)   \n",
    "gamma = 1/np.sqrt(1-vz**2)\n",
    "p = np.sqrt(E0_cm**2/4-muon_mass**2)\n",
    "pzm = p * np.cos(0)                                       #Where does p come from?#####\n",
    "E0_lb = gamma*(E0_cm/2-pzm*vz)\n",
    "print('Nominal beam energy in the Lab frame',E0_lb, 'GeV')"
   ]
  },
  {
   "cell_type": "code",
   "execution_count": null,
   "metadata": {},
   "outputs": [],
   "source": [
    "#be generated along the whole length of the target as the media.\n",
    "#E_lab = E0_lb   \n",
    "\n",
    "#Obtain the positron energy samples in the laboratory frame\n",
    "E_lab_samples = np.random.normal(E_lab, sigma, N)\n",
    "\n",
    "#We keep the distribution for ploting purposes\n",
    "E_lab_plot = E_lab_samples \n",
    "\n",
    "#Now we distribute the energies according the position in the Beryllium plate\n",
    "##########################################################################\n",
    "x = np.random.uniform(low=0., high=target_length, size=(len(E_lab_samples),))\n",
    "E_lab_samples = E_lab_samples*np.exp(-x/properties.at[3,'X0'])\n",
    "##########################################################################\n",
    "\n",
    "#Boost of the positrons energy to the Center of Mass Frame\n",
    "vz    = np.sqrt((E_lab_samples-electron_mass)/(E_lab_samples+electron_mass))   \n",
    "gamma = 1/np.sqrt(1-vz**2)\n",
    "\n",
    "E_cm_samples = 2 *gamma*(E_lab_samples-vz*np.sqrt(E_lab_samples**2-electron_mass**2))\n",
    "\n",
    "#Filter the values below the threshold\n",
    "b = E_cm_samples[E_cm_samples> 2* muon_mass]\n",
    "\n",
    "N_instances = len(b)\n",
    "\n",
    "\n",
    "#######################\n",
    "# DEPRECATED\n",
    "#EXTREMELY INEFICIENT METHOD TO GET THETA takes around 25 minutes\n",
    "#theta_cm_instances = np.arange(0,0)\n",
    "#for i in range(0,N_instances):\n",
    "#    theta_cm_instances = np.append(theta_cm_instances,np.random.choice(accept_reject(10**5,#pdf_theta_normalized,box,b[i])))\n",
    "\n",
    "theta_cm_instances = inv_cdf(b,np.random.random(N_instances))\n",
    "\n",
    "phi_cm_instances   = np.random.uniform(0., 2*np.pi, N_instances)"
   ]
  },
  {
   "cell_type": "code",
   "execution_count": null,
   "metadata": {},
   "outputs": [],
   "source": [
    "#Energy distributions\n",
    "fig, (ax1,ax2) = plt.subplots(nrows=1, ncols=2, figsize=(12, 4))\n",
    "\n",
    "n, bins, _ = ax1.hist(E_lab_plot, bins=50,color='orange', ec='grey')\n",
    "ax1.set_title('Beam energy', fontsize=10)\n",
    "ax1.set_xlabel(r'$Energy$ [GeV]', fontsize=15)\n",
    "ax1.set_ylabel('Count', fontsize=15)\n",
    "#ax1.ticklabel_format(axis=\"y\", style=\"sci\", scilimits=(5,5))\n",
    "ax1.xaxis.set_major_formatter(FormatStrFormatter('%.2f'))\n",
    "\n",
    "\n",
    "n, bins, _ = ax2.hist(E_lab_samples, bins=50,color='orange', ec='grey')\n",
    "ax2.set_title('Beam energy atenuation (material)', fontsize=10)\n",
    "ax2.set_xlabel(r'$Energy$ [GeV]', fontsize=15)\n",
    "#ax2.ticklabel_format(axis=\"y\", style=\"sci\", scilimits=(5,5))\n",
    "ax2.xaxis.set_major_formatter(FormatStrFormatter('%.2f'))\n",
    "\n",
    "plt.show()"
   ]
  },
  {
   "cell_type": "code",
   "execution_count": null,
   "metadata": {},
   "outputs": [],
   "source": [
    "#Calculate the total momentum p       CM\n",
    "#Calculate the momentum components in CM\n",
    "p_cm_instances = np.sqrt(b**2/4-muon_mass**2)\n",
    "\n",
    "pxm_cm = p_cm_instances * np.sin(theta_cm_instances)*np.cos(phi_cm_instances)\n",
    "pym_cm = p_cm_instances * np.sin(theta_cm_instances)*np.sin(phi_cm_instances)\n",
    "pzm_cm = p_cm_instances * np.cos(theta_cm_instances)\n",
    "\n",
    "#Calculate the momentum components in LAB\n",
    "vz = -np.sqrt(1-4*electron_mass**2/b**2)   \n",
    "gamma = 1/np.sqrt(1-vz**2)\n",
    "\n",
    "pxm_lb = pxm_cm\n",
    "pym_lb = pym_cm\n",
    "pzm_lb = gamma * pzm_cm - vz * gamma *b/2\n",
    "\n",
    "#Calculate the total momentum p       LAB\n",
    "#Obtain the angles thet and phi       LAB\n",
    "p_lb_instances = np.sqrt(pxm_lb**2 + pym_lb**2 + pzm_lb**2)\n",
    "\n",
    "theta_lb_instances = np.arccos(pzm_lb/p_lb_instances)\n",
    "phi_lb_instances   = np.arctan2(pym_lb,pxm_lb)"
   ]
  },
  {
   "cell_type": "code",
   "execution_count": null,
   "metadata": {
    "scrolled": true
   },
   "outputs": [],
   "source": [
    "#Plot of the spherical angle  distributions in each frame\n",
    "\n",
    "fig, ((ax1, ax2), (ax3, ax4)) = plt.subplots(nrows=2, ncols=2, figsize=(12, 12))\n",
    "\n",
    "n, bins, _ = ax1.hist(theta_cm_instances, bins=50,color='orange', ec='black')\n",
    "ax1.set_title(r'$\\mu^+$', fontsize=15)\n",
    "ax1.set_xlabel(r'$\\theta$ [rad]', fontsize=15)\n",
    "ax1.set_ylabel('Count', fontsize=15)\n",
    "#ax1.ticklabel_format(axis=\"y\", style=\"sci\", scilimits=(5,5))\n",
    "\n",
    "n, bins, _ = ax2.hist(phi_cm_instances, bins=50,color='blue', ec='black')\n",
    "ax2.set_title(r'$\\mu^+$', fontsize=15)\n",
    "ax2.set_xlabel(r'$\\phi$ [rad]', fontsize=15)\n",
    "#ax2.ticklabel_format(axis=\"y\", style=\"sci\", scilimits=(5,5))\n",
    "\n",
    "n, bins, _ = ax3.hist(theta_lb_instances, bins=50,color='orange', ec='black')\n",
    "ax3.set_title(r'$\\mu^+$', fontsize=15)\n",
    "ax3.set_xlabel(r'$\\theta$ [rad]', fontsize=15)\n",
    "ax3.set_ylabel('Count', fontsize=15)\n",
    "#ax3.ticklabel_format(axis=\"y\", style=\"sci\", scilimits=(5,5))\n",
    "\n",
    "n, bins, _ = ax4.hist(phi_lb_instances, bins=50,color='blue', ec='black')\n",
    "ax4.set_title(r'$\\mu^+$', fontsize=15)\n",
    "ax4.set_xlabel(r'$\\phi$ [rad]', fontsize=15)\n",
    "ax4.set_ylabel('Count', fontsize=15)\n",
    "#ax4.ticklabel_format(axis=\"y\", style=\"sci\", scilimits=(5,5))\n",
    "\n",
    "plt.show()\n",
    "\n",
    "print('After undergoing a distance of one meter the beam has a cross section of',np.pi*(np.sin(np.max(theta_lb_instances))*1000)**2,'mm**2')"
   ]
  },
  {
   "cell_type": "code",
   "execution_count": null,
   "metadata": {
    "scrolled": false
   },
   "outputs": [],
   "source": [
    "#Momentum distribution in the LAB frame\n",
    "fig, ((ax1,ax2,ax3),(ax4,ax5,ax6)) = plt.subplots(nrows=2, ncols=3, figsize=(12, 12))\n",
    "\n",
    "n, bins, _ = ax1.hist(pxm_cm, bins=50,color='orange', ec='grey')\n",
    "ax1.set_xlabel(r'$p_x$ [GeV]', fontsize=15)\n",
    "ax1.set_ylabel('Count', fontsize=15)\n",
    "#ax1.ticklabel_format(axis=\"y\", style=\"sci\", scilimits=(5,5))\n",
    "ax1.xaxis.set_major_formatter(FormatStrFormatter('%.2f'))\n",
    "\n",
    "\n",
    "n, bins, _ = ax2.hist(pym_cm, bins=50,color='orange', ec='grey')\n",
    "ax2.set_title(r'$\\mu^+$ momentum components in the CoM frame', fontsize=15)\n",
    "ax2.set_xlabel(r'$p_y$ [GeV]', fontsize=15)\n",
    "#ax2.ticklabel_format(axis=\"y\", style=\"sci\", scilimits=(5,5))\n",
    "ax2.xaxis.set_major_formatter(FormatStrFormatter('%.2f'))\n",
    "\n",
    "\n",
    "\n",
    "n, bins, _ = ax3.hist(pzm_cm, bins=50,color='orange', ec='grey')\n",
    "ax3.set_xlabel(r'$p_z$ [GeV]', fontsize=15)\n",
    "#ax3.ticklabel_format(axis=\"y\", style=\"sci\", scilimits=(5,5))\n",
    "#ax3.xaxis.set_major_formatter(FormatStrFormatter('%.0f'))\n",
    "\n",
    "\n",
    "n, bins, _ = ax4.hist(pxm_lb, bins=50,color='dodgerblue', ec='grey')\n",
    "ax4.set_xlabel(r'$p_x$ [GeV]', fontsize=15)\n",
    "ax4.set_ylabel('Count', fontsize=15)\n",
    "#ax4.ticklabel_format(axis=\"y\", style=\"sci\", scilimits=(5,5))\n",
    "ax4.xaxis.set_major_formatter(FormatStrFormatter('%.2f'))\n",
    "\n",
    "\n",
    "n, bins, _ = ax5.hist(pym_lb, bins=50,color='dodgerblue', ec='grey')\n",
    "ax5.set_title(r'$\\mu^+$ momentum components in the LAB frame', fontsize=15)\n",
    "ax5.set_xlabel(r'$p_y$ [GeV]', fontsize=15)\n",
    "#ax5.ticklabel_format(axis=\"y\", style=\"sci\", scilimits=(5,5))\n",
    "ax5.xaxis.set_major_formatter(FormatStrFormatter('%.2f'))\n",
    "\n",
    "\n",
    "\n",
    "n, bins, _ = ax6.hist(pzm_lb, bins=50,color='dodgerblue', ec='grey')\n",
    "ax6.set_xlabel(r'$p_z$ [GeV]', fontsize=15)\n",
    "#ax6.ticklabel_format(axis=\"y\", style=\"sci\", scilimits=(5,5))\n",
    "#ax3.xaxis.set_major_formatter(FormatStrFormatter('%.0f'))\n",
    "\n",
    "\n",
    "\n",
    "plt.show()"
   ]
  },
  {
   "cell_type": "code",
   "execution_count": null,
   "metadata": {},
   "outputs": [],
   "source": [
    "#Write the results to a file \n",
    "\n",
    "s3_muons_com = pd.DataFrame({'Theta' : theta_cm_instances,'Phi' : phi_cm_instances,'Muon px' : pxm_cm, 'Muon py' : pym_cm, 'Muon pz' : pzm_cm})\n",
    "#s3_muons_com.to_csv('s3_muons_momentum_com.csv', index=False)\n",
    "\n",
    "s3_muons_lab = pd.DataFrame({'Theta' : theta_lb_instances,'Phi' : phi_lb_instances,'Muon px' : pxm_lb, 'Muon py' : pym_lb, 'Muon pz' : pzm_lb})\n",
    "#s3_muons_lab.to_csv('s3_muons_momentum_lab.csv', index=False)"
   ]
  },
  {
   "cell_type": "code",
   "execution_count": null,
   "metadata": {},
   "outputs": [],
   "source": [
    "#Can we estimate the muons beams cross section? I think it's radius is 1 cm + 1mm\n",
    "#1 cm from the positrons beam and 1 mm due to the scatering process."
   ]
  },
  {
   "cell_type": "code",
   "execution_count": null,
   "metadata": {},
   "outputs": [],
   "source": [
    "#We can estimate an average cross section and estimate the number of produced muons.\n",
    "#hi"
   ]
  },
  {
   "cell_type": "code",
   "execution_count": null,
   "metadata": {},
   "outputs": [],
   "source": [
    "############      ####      ###      ######\n",
    "############      #####     ###      ### ###\n",
    "###               ######    ###      ###  ### \n",
    "###               ### ###   ###      ###   ###\n",
    "############      ###  ###  ###      ###    ###\n",
    "############      ###   ### ###      ###     ###\n",
    "###               ###    ## ###      ###    ###\n",
    "###               ###     #####      ###   ###\n",
    "############      ###      ####      ###  ###\n",
    "############      ###       ###      ### ###\n",
    "############################################"
   ]
  }
 ],
 "metadata": {
  "kernelspec": {
   "display_name": "Python 3",
   "language": "python",
   "name": "python3"
  },
  "language_info": {
   "codemirror_mode": {
    "name": "ipython",
    "version": 3
   },
   "file_extension": ".py",
   "mimetype": "text/x-python",
   "name": "python",
   "nbconvert_exporter": "python",
   "pygments_lexer": "ipython3",
   "version": "3.8.5"
  }
 },
 "nbformat": 4,
 "nbformat_minor": 2
}
