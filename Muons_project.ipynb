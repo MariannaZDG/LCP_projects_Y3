{
 "cells": [
  {
   "cell_type": "markdown",
   "metadata": {},
   "source": [
    "# Simulation of a positron-induced Muon Source (part 1)\n",
    "\n",
    "\n",
    "### Authors:\n",
    "* Saverio Monaco\n",
    "* Marianna Zeragic De Giorgio\n",
    "* Gerardo Javier Carmona\n",
    "* Hilario Capettini \n",
    "\n",
    "### Description\n",
    "\n",
    "The production of a high brillance muon beam is one of the most important challenge for the future of Particle Physics. A particularly interesting idea consists of shooting high energy positrons on a target, aiming at the production of muons by means of the process $e^+ + e^- \\rightarrow \\mu^+ + \\mu^-$. To mimize the divergence of the resulting \"muon beam\", the positrons energy is chosen so that the reaction occurs close to threshold (assuming the electrons in the target to be at rest). The main goal of this project is to produce a Monte Carlo simulation of such a process. \n",
    "\n",
    "\n",
    "### References\n",
    "\n",
    "* [LEMMA](https://arxiv.org/pdf/1509.04454.pdf) paper. The original paper describing the positron-induced low emittance muon source, ehere all the relevant kinematic features of the process have been studied\n",
    "* [Babayaga](https://www2.pv.infn.it/~hepcomplex/babayaga.html) event generator. You may want to install and run it as a comparison for your results.\n",
    "* [2018 Experiment](https://arxiv.org/pdf/1909.13716.pdf): the paper describing the (very poor..) results of the experiment carried out in summer 2018\n",
    "* [2021 proposal](https://cds.cern.ch/record/2712394?ln=en): the proposal for the experiment in 2021\n",
    "\n",
    "\n",
    "### Contact\n",
    "\n",
    "* Marco Zanetti <marco.zanetti@unipd.it>\n",
    "* Camilla Curatolo <camilla.curatolo@pd.infn.it>\n",
    "* Jacopo Pazzini <jacopo.pazzini@unipd.it>\n",
    "* Alberto Zucchetta <alberto.zucchetta@pd.infn.it>"
   ]
  },
  {
   "cell_type": "markdown",
   "metadata": {},
   "source": [
    "## Analytical part\n",
    "\n",
    "1. Compute the process leading-order cross section, $\\sigma(\\theta; \\sqrt{s})$, as a function of the scattering angle $\\theta$ and with the  center of mass energy $\\sqrt{s}$ as a parameter. Start by computing it in the center of mass system. N.B.: textbooks reports such cross section in the relativistic limit, i.e. for $\\sqrt{s}\\gg m_\\mu$, which is clearly not the case here ($\\sqrt{s}\\sim 2m_\\mu$);\n",
    "\n",
    "2. compute and display the angle and momentum components distributions of the emerging muon pairs;\n",
    "\n",
    "3. boost muons four-momenta in the laboratory frame, i.e. in the frame where the electron is at rest and the positron has enough energy to give rise to the process;"
   ]
  },
  {
   "cell_type": "code",
   "execution_count": 1,
   "metadata": {},
   "outputs": [],
   "source": [
    "#ADD THEORETICAL RESULTS"
   ]
  },
  {
   "cell_type": "code",
   "execution_count": 1,
   "metadata": {},
   "outputs": [],
   "source": [
    "#Import the required packages\n",
    "import numpy as np\n",
    "import matplotlib.pyplot as plt\n",
    "from scipy import stats\n",
    "import scipy.integrate as integrate\n",
    "import csv\n",
    "import pandas as pd\n",
    "from matplotlib.ticker import FormatStrFormatter"
   ]
  },
  {
   "cell_type": "code",
   "execution_count": 23,
   "metadata": {},
   "outputs": [],
   "source": [
    "#Define the universal constants\n",
    "muon_mass       = 0.1056583745       #[GeV]\n",
    "electron_mass   = 0.00051099894      #[GeV]\n",
    "electron_charge = 1.602176634e-19    #[C]\n",
    "c = 299792458                        #[m/s]\n",
    "alpha = 0.007297                     #[]    #CHECK\n",
    "\n"
   ]
  },
  {
   "cell_type": "markdown",
   "metadata": {},
   "source": [
    "The differential cross section we choosed is then $$\\left(\\frac{d\\sigma}{d\\Omega}\\right)_{CM}=\\frac{\\alpha^2}{16\\, s^2}\\frac{|p'|}{\\sqrt{s}}\\left(s+p'^2\\cos^2\\vartheta+m_\\mu^2\\right)$$\n",
    "\n",
    "The relativistic total energy is $$E_{CM}^2=4p'^2+4m_\\mu^2\\rightarrow p'^2=\\frac{E_{CM}^2}{4}-m_\\mu^2\\rightarrow p'^2=\\frac{s}{4}-m_\\mu^2$$\n",
    "\n",
    "Then our differential cross section becomes:\n",
    "$$\\left(\\frac{d\\sigma}{d\\Omega}\\right)_{CM}=\\frac{\\alpha^2}{16\\, s}\\sqrt{\\frac{1}{4}-\\frac{m_\\mu^2}{s}}\\left[\\left(1+\\frac{m_\\mu^2}{s}\\right)+\\left(\\frac{1}{4}- \\frac{m_\\mu^2}{s}\\right)\\cos^2{\\theta}\\right]$$\n",
    "\n",
    "Integrating over the solid angle we obtain the total cross section:\n",
    "$$\\sigma(s)=\\frac{\\pi \\alpha^2}{4\\, s}\\sqrt{\\frac{1}{4}-\\frac{m_\\mu^2}{s}}\\left[\\frac{13}{12}+\\frac{2}{3}\\frac{m_\\mu^2}{s}\\right]$$\n",
    "\n",
    "The PDF for a given energy s is given by:\n",
    "$$PDF(\\theta)=  \\int_{0}^{2 \\pi} \\sin(\\theta)\\frac{d\\sigma}{d\\Omega} d\\phi $$"
   ]
  },
  {
   "cell_type": "code",
   "execution_count": 3,
   "metadata": {},
   "outputs": [],
   "source": [
    "#rs is the sqrt(s)\n",
    "#The unis are Barn so 1ub = 2.56819e-3  GeV^-2  #CHECK!!!\n",
    "gev_to_ub = 389.379\n",
    "\n",
    "def cros_section(rs):\n",
    "    y = np.pi * alpha**2 / (4*rs**2) * np.sqrt(1/4 - muon_mass**2 / rs**2) * (13/12 + 2/3 * muon_mass**2 / rs**2)\n",
    "    #y = 1 * np.pi * alpha**2 / (3*rs**2) * np.sqrt(1 - 4*muon_mass**2 / rs**2) * (1 + 2 * muon_mass**2 / rs**2)\n",
    "    return y * gev_to_ub\n",
    "    \n",
    "def dif_cross_section(rs,theta):\n",
    "    y = alpha**2/(16 * rs**2)* np.sqrt(1/4 - muon_mass**2/rs**2) * (1 + muon_mass**2 / rs**2 + (1/4 -muon_mass**2/rs**2)*np.cos(theta)**2)\n",
    "    #y = alpha**2/(16 * rs**2)* np.sqrt(1 - 4*muon_mass**2/rs**2) * (1 + 4*muon_mass**2 / rs**2 + (1 -4*muon_mass**2/rs**2)*np.cos(theta)**2)\n",
    "    return y * gev_to_ub\n",
    "\n",
    "def pdf_theta(rs,theta):\n",
    "    y = 2*np.pi *np.sin(theta)*dif_cross_section(rs,theta)\n",
    "    return y\n",
    "    \n",
    "def pdf_theta_normalized(rs,theta):\n",
    "    y =pdf_theta(rs,theta)/cros_section(rs)\n",
    "    return y\n",
    "\n",
    "\n",
    "\n",
    "\n",
    "def pdf_p(rs,theta):\n",
    "    y = 0\n",
    "    return y\n",
    "    \n",
    "def pdf_p_normalized(rs,theta):\n",
    "    y =pdf_p(rs,theta)/cros_section(rs)\n",
    "    return y"
   ]
  },
  {
   "cell_type": "code",
   "execution_count": 4,
   "metadata": {},
   "outputs": [],
   "source": [
    "#Simulation constants\n",
    "E = 2 * muon_mass + 0.001  #This is the proposed energy just above the threshold\n",
    "N = 10**7"
   ]
  },
  {
   "cell_type": "code",
   "execution_count": 5,
   "metadata": {},
   "outputs": [
    {
     "name": "stdout",
     "output_type": "stream",
     "text": [
      "0.010291179451355442\n",
      "0.212316749\n",
      "0.021858933687186603\n"
     ]
    }
   ],
   "source": [
    "print(np.sqrt(E**2/4-muon_mass**2))\n",
    "print(E)\n",
    "print(cros_section(E))"
   ]
  },
  {
   "cell_type": "code",
   "execution_count": 6,
   "metadata": {},
   "outputs": [
    {
     "data": {
      "image/png": "[encoded data removed]",
      "text/plain": [
       "<Figure size 432x432 with 1 Axes>"
      ]
     },
     "metadata": {
      "needs_background": "light"
     },
     "output_type": "display_data"
    }
   ],
   "source": [
    "fig, ax = plt.subplots(figsize=(6,6))\n",
    "theta = np.linspace(0,np.pi)\n",
    "ax.plot(theta, dif_cross_section(E,theta),color='blue', label='PDF')\n",
    "\n",
    "plt.title(r'Diferential cross section for $\\sqrt{s}=$'+str(E), fontsize=15)\n",
    "plt.xlabel(r'$ \\theta [rad] $', fontsize=15)\n",
    "plt.ylabel(r'$ \\frac{d\\sigma}{d\\Omega} [\\mu b]$', fontsize=15)\n",
    "#plt.legend()\n",
    "plt.show()"
   ]
  },
  {
   "cell_type": "code",
   "execution_count": 7,
   "metadata": {
    "scrolled": true
   },
   "outputs": [
    {
     "name": "stderr",
     "output_type": "stream",
     "text": [
      "<ipython-input-3-5edc05401cfb>:6: RuntimeWarning: invalid value encountered in sqrt\n",
      "  y = np.pi * alpha**2 / (4*rs**2) * np.sqrt(1/4 - muon_mass**2 / rs**2) * (13/12 + 2/3 * muon_mass**2 / rs**2)\n",
      "<ipython-input-3-5edc05401cfb>:6: RuntimeWarning: invalid value encountered in sqrt\n",
      "  y = np.pi * alpha**2 / (4*rs**2) * np.sqrt(1/4 - muon_mass**2 / rs**2) * (13/12 + 2/3 * muon_mass**2 / rs**2)\n"
     ]
    },
    {
     "data": {
      "image/png": "[encoded data removed]",
      "text/plain": [
       "<Figure size 864x432 with 2 Axes>"
      ]
     },
     "metadata": {
      "needs_background": "light"
     },
     "output_type": "display_data"
    }
   ],
   "source": [
    "fig, (ax1, ax2) = plt.subplots(nrows=1, ncols=2, figsize=(12, 6))\n",
    "rs = np.linspace(0.2, 0.5)\n",
    "ax1.plot(rs, cros_section(rs),color='blue', label='PDF')\n",
    "\n",
    "ax1.set_title('Total cross section', fontsize=15)\n",
    "ax1.set_xlabel(r'$ \\sqrt{S} [GeV]$', fontsize=15)\n",
    "ax1.set_ylabel(r'$ \\sigma [\\mu b]$', fontsize=15)\n",
    "#plt.legend()\n",
    "\n",
    "rs = np.linspace(0.21, 0.23)\n",
    "ax2.plot(rs, cros_section(rs),color='blue', label='PDF')\n",
    "\n",
    "ax2.set_title('Total cross section', fontsize=15)\n",
    "ax2.set_xlabel(r'$ \\sqrt{S} [GeV]$', fontsize=15)\n",
    "ax2.set_ylabel(r'$ \\sigma [\\mu b]$', fontsize=15)\n",
    "ax2.set_xlim(0.21,0.23)\n",
    "plt.show()"
   ]
  },
  {
   "cell_type": "code",
   "execution_count": 8,
   "metadata": {
    "scrolled": true
   },
   "outputs": [
    {
     "name": "stdout",
     "output_type": "stream",
     "text": [
      "Angle distribution\n"
     ]
    },
    {
     "data": {
      "image/png": "[encoded data removed]",
      "text/plain": [
       "<Figure size 864x432 with 2 Axes>"
      ]
     },
     "metadata": {
      "needs_background": "light"
     },
     "output_type": "display_data"
    },
    {
     "name": "stdout",
     "output_type": "stream",
     "text": [
      "Check the normalization\n",
      "Integral of the PDF in [0,pi] 0.021858933687186596\n",
      "\n",
      "Integral of the normalized PDF in [0,pi] 0.9999999999999999\n"
     ]
    }
   ],
   "source": [
    "print('Angle distribution')\n",
    "fig, (ax1, ax2) = plt.subplots(nrows=1, ncols=2, figsize=(12, 6))\n",
    "\n",
    "#E = 0.25\n",
    "theta = np.linspace(0, np.pi)\n",
    "\n",
    "\n",
    "ax1.plot(theta, pdf_theta(E,theta),color='blue', label='PDF')\n",
    "ax1.set_title(r'$ PDF(\\theta) for \\sqrt{s}=$'+str(E), fontsize=15)\n",
    "ax1.set_xlabel(r'$ \\theta [rad] $', fontsize=20)\n",
    "ax1.set_ylabel(r'$ PDF$', fontsize=20)\n",
    "#plt.legend()\n",
    "\n",
    "\n",
    "\n",
    "ax2.plot(theta, pdf_theta_normalized(E,theta),color='blue', label='PDF')\n",
    "ax2.set_title(r'Normalized $ PDF(\\theta) for \\sqrt{s}=$'+str(E), fontsize=15)\n",
    "ax2.set_xlabel(r'$ \\theta [rad] $', fontsize=20)\n",
    "ax2.set_ylabel(r'$ PDF$', fontsize=20)\n",
    "plt.show()\n",
    "\n",
    "print('Check the normalization')\n",
    "x2 = lambda x: pdf_theta(E,x)\n",
    "print('Integral of the PDF in [0,pi]',integrate.quad(x2, 0., np.pi)[0])\n",
    "print('')\n",
    "x2 = lambda x: pdf_theta_normalized(E,x)\n",
    "print('Integral of the normalized PDF in [0,pi]',integrate.quad(x2, 0., np.pi)[0])"
   ]
  },
  {
   "cell_type": "code",
   "execution_count": 9,
   "metadata": {},
   "outputs": [
    {
     "name": "stdout",
     "output_type": "stream",
     "text": [
      "Momentum distribution\n"
     ]
    }
   ],
   "source": [
    "print('Momentum distribution')"
   ]
  },
  {
   "cell_type": "markdown",
   "metadata": {},
   "source": [
    "## Monte Carlo Simulation\n",
    "\n",
    "4. write a Monte Carlo simulation that generates scattering events following the distrubtions that you found analytically; \n",
    "5. produce a synthetic dataset of about $N=10^5$ (or more) events. Events should be listed as rows in a file with columns representing the muons coordinates (keep in mind that in the lab frame muons are relativistic and thus the number of coordinates can be only 3 per muon);\n",
    "6. assume a $3$ cm thick Beryllium block is used as target and a rate of positron on target of $10^6$ Hz. Compute the rescaling factor (weight) you need to apply to the $N$ simulated events such that they represent the statistics that would be gathered in a week of countinuous operations;\n",
    "7. repeat what done so far simulating now the actual transverse shape and energy spread of the beam: for the former assume a flat distribution in a circle of radius $r=1$ cm and for the latter a gaussian distribution centered at the nominal beam energy and a width of $0.5$ GeV;\n"
   ]
  },
  {
   "cell_type": "code",
   "execution_count": 11,
   "metadata": {},
   "outputs": [],
   "source": [
    "#Inputs\n",
    "box = [0,np.pi,0.0,0.5] #Box coordinates [x0,x1,y0,y1] for analysis\n",
    "                        #We choose the size to optimize the ammount of useful particles"
   ]
  },
  {
   "cell_type": "code",
   "execution_count": 12,
   "metadata": {},
   "outputs": [],
   "source": [
    "def distribution(theta):\n",
    "    rs = E  \n",
    "    y = pdf_theta_normalized(rs,theta) \n",
    "    return y"
   ]
  },
  {
   "cell_type": "code",
   "execution_count": 13,
   "metadata": {},
   "outputs": [],
   "source": [
    "def accept_reject(N,distribution,box):\n",
    "    x = np.random.uniform(box[0], box[1], N)\n",
    "    y = np.random.uniform(box[2], box[3], N)\n",
    "    \n",
    "    accepted = x[y<=distribution(x)]\n",
    "    return accepted\n",
    "   "
   ]
  },
  {
   "cell_type": "code",
   "execution_count": 15,
   "metadata": {
    "scrolled": false
   },
   "outputs": [
    {
     "data": {
      "image/png": "[encoded data removed]",
      "text/plain": [
       "<Figure size 864x288 with 1 Axes>"
      ]
     },
     "metadata": {
      "needs_background": "light"
     },
     "output_type": "display_data"
    }
   ],
   "source": [
    "# Plot scaled histogram\n",
    "fig, ax = plt.subplots(figsize=(12,4))\n",
    "\n",
    "n, bins, _ = ax.hist(accept_reject(N,distribution,box), bins=50,color='orange', ec='black')\n",
    "\n",
    "d = (bins[1]-bins[0])\n",
    "scaling = d * n.sum()\n",
    "\n",
    "theta = np.linspace(box[0], box[1])\n",
    "ax.plot(theta, distribution(theta)*scaling,color='blue', label='PDF')\n",
    "\n",
    "\n",
    "plt.title('Histogram of accepted samples for'r'$ \\sqrt{S}=$'+str(E), fontsize=20)\n",
    "plt.xlabel(r'$ \\theta [°]$', fontsize=20)\n",
    "plt.ylabel('Count', fontsize=20)\n",
    "plt.legend()\n",
    "plt.show()"
   ]
  },
  {
   "cell_type": "code",
   "execution_count": 16,
   "metadata": {},
   "outputs": [],
   "source": [
    "#Comparison with BabaYaga algorithm\n",
    "\n"
   ]
  },
  {
   "cell_type": "code",
   "execution_count": 17,
   "metadata": {},
   "outputs": [],
   "source": [
    "#File management\n",
    "#csvfile=open('persons.csv','w', newline='')"
   ]
  },
  {
   "cell_type": "code",
   "execution_count": 18,
   "metadata": {},
   "outputs": [],
   "source": [
    "#Obtain the parameters distribution\n",
    "theta_instances = accept_reject(N,distribution,box)\n",
    "N_instances = len(theta_instances)\n",
    "phi_instances = np.random.uniform(0., 2*np.pi, N_instances)\n",
    "\n",
    "p = np.sqrt(E**2/4-muon_mass**2)"
   ]
  },
  {
   "cell_type": "code",
   "execution_count": 19,
   "metadata": {},
   "outputs": [],
   "source": [
    "#Obtain the muons momenta and build the file  (Is it in the CoM frame?)\n",
    "\n",
    "pxm = p * np.sin(theta_instances)*np.cos(phi_instances)\n",
    "pym = p * np.sin(theta_instances)*np.sin(phi_instances)\n",
    "pzm = p * np.cos(theta_instances)\n",
    "\n",
    "pxam = -pxm\n",
    "pyam = -pym\n",
    "pzam = -pzm\n",
    "\n",
    "df = pd.DataFrame({'Theta' : theta_instances,'Phi' : phi_instances,'Muon px' : pxm, 'Muon py' : pym, 'Muon pz' : pzm})\n",
    "df.to_csv('/home/usuario/PoD/muons_momentum_com.csv', index=False)"
   ]
  },
  {
   "cell_type": "code",
   "execution_count": 20,
   "metadata": {
    "scrolled": true
   },
   "outputs": [
    {
     "name": "stdout",
     "output_type": "stream",
     "text": [
      "$\\sqrt(s)$ 0.212316749\n",
      "\n",
      "Norm of p = 0.010291179451355442\n"
     ]
    },
    {
     "data": {
      "text/html": [
       "<div>\n",
       "<style scoped>\n",
       "    .dataframe tbody tr th:only-of-type {\n",
       "        vertical-align: middle;\n",
       "    }\n",
       "\n",
       "    .dataframe tbody tr th {\n",
       "        vertical-align: top;\n",
       "    }\n",
       "\n",
       "    .dataframe thead th {\n",
       "        text-align: right;\n",
       "    }\n",
       "</style>\n",
       "<table border=\"1\" class=\"dataframe\">\n",
       "  <thead>\n",
       "    <tr style=\"text-align: right;\">\n",
       "      <th></th>\n",
       "      <th>Theta</th>\n",
       "      <th>Phi</th>\n",
       "      <th>Muon px</th>\n",
       "      <th>Muon py</th>\n",
       "      <th>Muon pz</th>\n",
       "    </tr>\n",
       "  </thead>\n",
       "  <tbody>\n",
       "    <tr>\n",
       "      <th>0</th>\n",
       "      <td>0.619707</td>\n",
       "      <td>4.837982</td>\n",
       "      <td>0.000749</td>\n",
       "      <td>-0.005930</td>\n",
       "      <td>0.008378</td>\n",
       "    </tr>\n",
       "    <tr>\n",
       "      <th>1</th>\n",
       "      <td>1.057292</td>\n",
       "      <td>1.445200</td>\n",
       "      <td>0.001123</td>\n",
       "      <td>0.008893</td>\n",
       "      <td>0.005055</td>\n",
       "    </tr>\n",
       "    <tr>\n",
       "      <th>2</th>\n",
       "      <td>1.252337</td>\n",
       "      <td>5.185024</td>\n",
       "      <td>0.004449</td>\n",
       "      <td>-0.008702</td>\n",
       "      <td>0.003222</td>\n",
       "    </tr>\n",
       "    <tr>\n",
       "      <th>3</th>\n",
       "      <td>1.650523</td>\n",
       "      <td>1.932113</td>\n",
       "      <td>-0.003626</td>\n",
       "      <td>0.009596</td>\n",
       "      <td>-0.000820</td>\n",
       "    </tr>\n",
       "    <tr>\n",
       "      <th>4</th>\n",
       "      <td>2.939708</td>\n",
       "      <td>5.849975</td>\n",
       "      <td>0.001873</td>\n",
       "      <td>-0.000866</td>\n",
       "      <td>-0.010082</td>\n",
       "    </tr>\n",
       "    <tr>\n",
       "      <th>...</th>\n",
       "      <td>...</td>\n",
       "      <td>...</td>\n",
       "      <td>...</td>\n",
       "      <td>...</td>\n",
       "      <td>...</td>\n",
       "    </tr>\n",
       "    <tr>\n",
       "      <th>6366535</th>\n",
       "      <td>0.961047</td>\n",
       "      <td>5.986934</td>\n",
       "      <td>0.008069</td>\n",
       "      <td>-0.002463</td>\n",
       "      <td>0.005893</td>\n",
       "    </tr>\n",
       "    <tr>\n",
       "      <th>6366536</th>\n",
       "      <td>0.918116</td>\n",
       "      <td>3.883292</td>\n",
       "      <td>-0.006028</td>\n",
       "      <td>-0.005523</td>\n",
       "      <td>0.006250</td>\n",
       "    </tr>\n",
       "    <tr>\n",
       "      <th>6366537</th>\n",
       "      <td>1.915680</td>\n",
       "      <td>4.344160</td>\n",
       "      <td>-0.003486</td>\n",
       "      <td>-0.009036</td>\n",
       "      <td>-0.003479</td>\n",
       "    </tr>\n",
       "    <tr>\n",
       "      <th>6366538</th>\n",
       "      <td>0.846200</td>\n",
       "      <td>2.164950</td>\n",
       "      <td>-0.004314</td>\n",
       "      <td>0.006385</td>\n",
       "      <td>0.006821</td>\n",
       "    </tr>\n",
       "    <tr>\n",
       "      <th>6366539</th>\n",
       "      <td>1.893532</td>\n",
       "      <td>4.313704</td>\n",
       "      <td>-0.003789</td>\n",
       "      <td>-0.008994</td>\n",
       "      <td>-0.003264</td>\n",
       "    </tr>\n",
       "  </tbody>\n",
       "</table>\n",
       "<p>6366540 rows × 5 columns</p>\n",
       "</div>"
      ],
      "text/plain": [
       "            Theta       Phi   Muon px   Muon py   Muon pz\n",
       "0        0.619707  4.837982  0.000749 -0.005930  0.008378\n",
       "1        1.057292  1.445200  0.001123  0.008893  0.005055\n",
       "2        1.252337  5.185024  0.004449 -0.008702  0.003222\n",
       "3        1.650523  1.932113 -0.003626  0.009596 -0.000820\n",
       "4        2.939708  5.849975  0.001873 -0.000866 -0.010082\n",
       "...           ...       ...       ...       ...       ...\n",
       "6366535  0.961047  5.986934  0.008069 -0.002463  0.005893\n",
       "6366536  0.918116  3.883292 -0.006028 -0.005523  0.006250\n",
       "6366537  1.915680  4.344160 -0.003486 -0.009036 -0.003479\n",
       "6366538  0.846200  2.164950 -0.004314  0.006385  0.006821\n",
       "6366539  1.893532  4.313704 -0.003789 -0.008994 -0.003264\n",
       "\n",
       "[6366540 rows x 5 columns]"
      ]
     },
     "execution_count": 20,
     "metadata": {},
     "output_type": "execute_result"
    }
   ],
   "source": [
    "#Check the file\n",
    "print(r'$\\sqrt(s)$',E)\n",
    "print('')\n",
    "print('Norm of p =',p)\n",
    "file_name='/home/usuario/PoD/muons_momentum_com.csv'\n",
    "data=pd.read_csv(file_name)\n",
    "data"
   ]
  },
  {
   "cell_type": "code",
   "execution_count": 21,
   "metadata": {},
   "outputs": [
    {
     "data": {
      "text/plain": [
       "0          0.619707\n",
       "1          1.057292\n",
       "2          1.252337\n",
       "3          1.650523\n",
       "4          2.939708\n",
       "             ...   \n",
       "6366535    0.961047\n",
       "6366536    0.918116\n",
       "6366537    1.915680\n",
       "6366538    0.846200\n",
       "6366539    1.893532\n",
       "Name: Theta, Length: 6366540, dtype: float64"
      ]
     },
     "execution_count": 21,
     "metadata": {},
     "output_type": "execute_result"
    }
   ],
   "source": [
    "data['Theta']"
   ]
  },
  {
   "cell_type": "code",
   "execution_count": 111,
   "metadata": {},
   "outputs": [
    {
     "data": {
      "image/png": "[encoded data removed]",
      "text/plain": [
       "<Figure size 864x288 with 2 Axes>"
      ]
     },
     "metadata": {
      "needs_background": "light"
     },
     "output_type": "display_data"
    }
   ],
   "source": [
    "#Angular distribution (Insert some diagram with polar coordinates and the beam)\n",
    "\n",
    "fig, (ax1,ax2) = plt.subplots(nrows=1, ncols=2, figsize=(12, 4))\n",
    "\n",
    "n, bins, _ = ax1.hist(theta_instances, bins=50,color='orange', ec='black')\n",
    "ax1.set_title(r'$\\mu^+$', fontsize=20)\n",
    "ax1.set_xlabel(r'$\\theta$ [rad]', fontsize=20)\n",
    "ax1.set_ylabel('Count', fontsize=20)\n",
    "ax1.ticklabel_format(axis=\"y\", style=\"sci\", scilimits=(5,5))\n",
    "\n",
    "n, bins, _ = ax2.hist(phi_instances, bins=50,color='blue', ec='black')\n",
    "ax2.set_title(r'$\\mu^+$', fontsize=20)\n",
    "ax2.set_xlabel(r'$\\phi$ [rad]', fontsize=20)\n",
    "ax2.ticklabel_format(axis=\"y\", style=\"sci\", scilimits=(5,5))\n",
    "\n",
    "\n",
    "\n",
    "\n",
    "plt.show()"
   ]
  },
  {
   "cell_type": "code",
   "execution_count": 105,
   "metadata": {
    "scrolled": false
   },
   "outputs": [
    {
     "data": {
      "image/png": "[encoded data removed]",
      "text/plain": [
       "<Figure size 864x288 with 3 Axes>"
      ]
     },
     "metadata": {
      "needs_background": "light"
     },
     "output_type": "display_data"
    }
   ],
   "source": [
    "fig, (ax1,ax2,ax3) = plt.subplots(nrows=1, ncols=3, figsize=(12, 4))\n",
    "\n",
    "n, bins, _ = ax1.hist(pxm, bins=50,color='orange', ec='grey')\n",
    "ax1.set_xlabel(r'$p_x$ [GeV]', fontsize=15)\n",
    "ax1.set_ylabel('Count', fontsize=15)\n",
    "ax1.ticklabel_format(axis=\"y\", style=\"sci\", scilimits=(5,5))\n",
    "ax1.xaxis.set_major_formatter(FormatStrFormatter('%.2f'))\n",
    "\n",
    "\n",
    "n, bins, _ = ax2.hist(pym, bins=50,color='orange', ec='grey')\n",
    "ax2.set_title(r'$\\mu^+$ momentum components in the center of mass frame', fontsize=15)\n",
    "ax2.set_xlabel(r'$p_y$ [GeV]', fontsize=15)\n",
    "ax2.ticklabel_format(axis=\"y\", style=\"sci\", scilimits=(5,5))\n",
    "ax2.xaxis.set_major_formatter(FormatStrFormatter('%.2f'))\n",
    "\n",
    "\n",
    "\n",
    "n, bins, _ = ax3.hist(pzm, bins=50,color='orange', ec='grey')\n",
    "ax3.set_xlabel(r'$p_z$ [GeV]', fontsize=15)\n",
    "ax3.ticklabel_format(axis=\"y\", style=\"sci\", scilimits=(5,5))\n",
    "ax3.xaxis.set_major_formatter(FormatStrFormatter('%.2f'))\n",
    "\n",
    "\n",
    "\n",
    "plt.show()"
   ]
  },
  {
   "cell_type": "code",
   "execution_count": null,
   "metadata": {},
   "outputs": [],
   "source": [
    "#Inser Pandas table with some statistics\n",
    "\n"
   ]
  },
  {
   "cell_type": "code",
   "execution_count": 106,
   "metadata": {
    "scrolled": true
   },
   "outputs": [
    {
     "data": {
      "image/png": "[encoded data removed]",
      "text/plain": [
       "<Figure size 864x288 with 3 Axes>"
      ]
     },
     "metadata": {
      "needs_background": "light"
     },
     "output_type": "display_data"
    }
   ],
   "source": [
    "fig, (ax1,ax2,ax3) = plt.subplots(nrows=1, ncols=3, figsize=(12, 4))\n",
    "\n",
    "n, bins, _ = ax1.hist(pxam, bins=50,color='b', ec='grey')\n",
    "ax1.set_xlabel(r'$p_x$ [GeV]', fontsize=15)\n",
    "ax1.set_ylabel('Count', fontsize=15)\n",
    "ax1.ticklabel_format(axis=\"y\", style=\"sci\", scilimits=(5,5))\n",
    "ax1.xaxis.set_major_formatter(FormatStrFormatter('%.2f'))\n",
    "\n",
    "n, bins, _ = ax2.hist(pyam, bins=50,color='blue', ec='grey')\n",
    "ax2.set_title(r'$\\mu^-$ momentum components in the center of mass frame', fontsize=15)\n",
    "ax2.set_xlabel(r'$p_y$ [GeV]', fontsize=15)\n",
    "ax2.ticklabel_format(axis=\"y\", style=\"sci\", scilimits=(5,5))\n",
    "ax2.xaxis.set_major_formatter(FormatStrFormatter('%.2f'))\n",
    "\n",
    "\n",
    "n, bins, _ = ax3.hist(pzam, bins=50,color='blue', ec='grey')\n",
    "ax3.set_xlabel(r'$p_z$ [GeV]', fontsize=15)\n",
    "ax3.ticklabel_format(axis=\"y\", style=\"sci\", scilimits=(5,5))\n",
    "ax3.xaxis.set_major_formatter(FormatStrFormatter('%.2f'))\n",
    "\n",
    "\n",
    "plt.show()"
   ]
  },
  {
   "cell_type": "code",
   "execution_count": null,
   "metadata": {},
   "outputs": [],
   "source": [
    "#Inser Pandas table with some statistics\n",
    "\n",
    "\n"
   ]
  },
  {
   "cell_type": "code",
   "execution_count": null,
   "metadata": {},
   "outputs": [],
   "source": [
    "#THEORY, what Saverio wrote but in the other frame with the electron moving toward the CM wit V=Vz\n",
    "\n",
    "\n"
   ]
  },
  {
   "cell_type": "code",
   "execution_count": 36,
   "metadata": {},
   "outputs": [],
   "source": [
    "#Boost the results to the laboratory frame\n",
    "\n",
    "E1 = E/2         #The energy of one muon\n",
    "vz = -np.sqrt((E**2-4*electron_mass**2)/E**2)   #Do I have to impose the sign?\n",
    "gamma = 1/np.sqrt(1-vz**2)"
   ]
  },
  {
   "cell_type": "code",
   "execution_count": 37,
   "metadata": {},
   "outputs": [],
   "source": [
    "pxm = pxm\n",
    "pym = pym\n",
    "pzm = gamma * pzm - vz * gamma *E1 \n",
    "\n",
    "#pxam = \n",
    "#pyam = \n",
    "#pzam = \n",
    "\n",
    "df = pd.DataFrame({'Theta' : theta_instances,'Phi' : phi_instances,'Muon px' : pxm, 'Muon py' : pym, 'Muon pz' : pzm})\n",
    "df.to_csv('/home/usuario/PoD/muons_momentum_lab.csv', index=False)"
   ]
  },
  {
   "cell_type": "code",
   "execution_count": 38,
   "metadata": {},
   "outputs": [
    {
     "name": "stdout",
     "output_type": "stream",
     "text": [
      "$\\sqrt(s)$ 0.212316749\n",
      "\n",
      "Norm of p = 0.010291179451355442\n"
     ]
    },
    {
     "data": {
      "text/html": [
       "<div>\n",
       "<style scoped>\n",
       "    .dataframe tbody tr th:only-of-type {\n",
       "        vertical-align: middle;\n",
       "    }\n",
       "\n",
       "    .dataframe tbody tr th {\n",
       "        vertical-align: top;\n",
       "    }\n",
       "\n",
       "    .dataframe thead th {\n",
       "        text-align: right;\n",
       "    }\n",
       "</style>\n",
       "<table border=\"1\" class=\"dataframe\">\n",
       "  <thead>\n",
       "    <tr style=\"text-align: right;\">\n",
       "      <th></th>\n",
       "      <th>Theta</th>\n",
       "      <th>Phi</th>\n",
       "      <th>Muon px</th>\n",
       "      <th>Muon py</th>\n",
       "      <th>Muon pz</th>\n",
       "    </tr>\n",
       "  </thead>\n",
       "  <tbody>\n",
       "    <tr>\n",
       "      <th>0</th>\n",
       "      <td>0.619707</td>\n",
       "      <td>4.837982</td>\n",
       "      <td>0.000749</td>\n",
       "      <td>-0.005930</td>\n",
       "      <td>-4197.989349</td>\n",
       "    </tr>\n",
       "    <tr>\n",
       "      <th>1</th>\n",
       "      <td>1.057292</td>\n",
       "      <td>1.445200</td>\n",
       "      <td>0.001123</td>\n",
       "      <td>0.008893</td>\n",
       "      <td>-4341.369430</td>\n",
       "    </tr>\n",
       "    <tr>\n",
       "      <th>2</th>\n",
       "      <td>1.252337</td>\n",
       "      <td>5.185024</td>\n",
       "      <td>0.004449</td>\n",
       "      <td>-0.008702</td>\n",
       "      <td>-4420.485912</td>\n",
       "    </tr>\n",
       "    <tr>\n",
       "      <th>3</th>\n",
       "      <td>1.650523</td>\n",
       "      <td>1.932113</td>\n",
       "      <td>-0.003626</td>\n",
       "      <td>0.009596</td>\n",
       "      <td>-4594.925930</td>\n",
       "    </tr>\n",
       "    <tr>\n",
       "      <th>4</th>\n",
       "      <td>2.939708</td>\n",
       "      <td>5.849975</td>\n",
       "      <td>0.001873</td>\n",
       "      <td>-0.000866</td>\n",
       "      <td>-4994.685842</td>\n",
       "    </tr>\n",
       "    <tr>\n",
       "      <th>...</th>\n",
       "      <td>...</td>\n",
       "      <td>...</td>\n",
       "      <td>...</td>\n",
       "      <td>...</td>\n",
       "      <td>...</td>\n",
       "    </tr>\n",
       "    <tr>\n",
       "      <th>6366535</th>\n",
       "      <td>0.961047</td>\n",
       "      <td>5.986934</td>\n",
       "      <td>0.008069</td>\n",
       "      <td>-0.002463</td>\n",
       "      <td>-4305.202308</td>\n",
       "    </tr>\n",
       "    <tr>\n",
       "      <th>6366536</th>\n",
       "      <td>0.918116</td>\n",
       "      <td>3.883292</td>\n",
       "      <td>-0.006028</td>\n",
       "      <td>-0.005523</td>\n",
       "      <td>-4289.809589</td>\n",
       "    </tr>\n",
       "    <tr>\n",
       "      <th>6366537</th>\n",
       "      <td>1.915680</td>\n",
       "      <td>4.344160</td>\n",
       "      <td>-0.003486</td>\n",
       "      <td>-0.009036</td>\n",
       "      <td>-4709.714944</td>\n",
       "    </tr>\n",
       "    <tr>\n",
       "      <th>6366538</th>\n",
       "      <td>0.846200</td>\n",
       "      <td>2.164950</td>\n",
       "      <td>-0.004314</td>\n",
       "      <td>0.006385</td>\n",
       "      <td>-4265.152230</td>\n",
       "    </tr>\n",
       "    <tr>\n",
       "      <th>6366539</th>\n",
       "      <td>1.893532</td>\n",
       "      <td>4.313704</td>\n",
       "      <td>-0.003789</td>\n",
       "      <td>-0.008994</td>\n",
       "      <td>-4700.421310</td>\n",
       "    </tr>\n",
       "  </tbody>\n",
       "</table>\n",
       "<p>6366540 rows × 5 columns</p>\n",
       "</div>"
      ],
      "text/plain": [
       "            Theta       Phi   Muon px   Muon py      Muon pz\n",
       "0        0.619707  4.837982  0.000749 -0.005930 -4197.989349\n",
       "1        1.057292  1.445200  0.001123  0.008893 -4341.369430\n",
       "2        1.252337  5.185024  0.004449 -0.008702 -4420.485912\n",
       "3        1.650523  1.932113 -0.003626  0.009596 -4594.925930\n",
       "4        2.939708  5.849975  0.001873 -0.000866 -4994.685842\n",
       "...           ...       ...       ...       ...          ...\n",
       "6366535  0.961047  5.986934  0.008069 -0.002463 -4305.202308\n",
       "6366536  0.918116  3.883292 -0.006028 -0.005523 -4289.809589\n",
       "6366537  1.915680  4.344160 -0.003486 -0.009036 -4709.714944\n",
       "6366538  0.846200  2.164950 -0.004314  0.006385 -4265.152230\n",
       "6366539  1.893532  4.313704 -0.003789 -0.008994 -4700.421310\n",
       "\n",
       "[6366540 rows x 5 columns]"
      ]
     },
     "execution_count": 38,
     "metadata": {},
     "output_type": "execute_result"
    }
   ],
   "source": [
    "#Check the file\n",
    "print(r'$\\sqrt(s)$',E)\n",
    "print('')\n",
    "print('Norm of p =',p)\n",
    "file_name='/home/usuario/PoD/muons_momentum_lab.csv'\n",
    "data=pd.read_csv(file_name)\n",
    "data"
   ]
  },
  {
   "cell_type": "code",
   "execution_count": 46,
   "metadata": {
    "scrolled": true
   },
   "outputs": [
    {
     "data": {
      "image/png": "[encoded data removed]",
      "text/plain": [
       "<Figure size 864x288 with 3 Axes>"
      ]
     },
     "metadata": {
      "needs_background": "light"
     },
     "output_type": "display_data"
    }
   ],
   "source": [
    "fig, (ax1,ax2,ax3) = plt.subplots(nrows=1, ncols=3, figsize=(12, 4))\n",
    "\n",
    "n, bins, _ = ax1.hist(pxm, bins=50,color='orange', ec='grey')\n",
    "ax1.set_xlabel(r'$p_x$ [GeV]', fontsize=15)\n",
    "ax1.set_ylabel('Count', fontsize=15)\n",
    "ax1.ticklabel_format(axis=\"y\", style=\"sci\", scilimits=(5,5))\n",
    "ax1.xaxis.set_major_formatter(FormatStrFormatter('%.2f'))\n",
    "\n",
    "\n",
    "n, bins, _ = ax2.hist(pym, bins=50,color='orange', ec='grey')\n",
    "ax2.set_title(r'$\\mu^+$ momentum components in the center of mass frame', fontsize=15)\n",
    "ax2.set_xlabel(r'$p_y$ [GeV]', fontsize=15)\n",
    "ax2.ticklabel_format(axis=\"y\", style=\"sci\", scilimits=(5,5))\n",
    "ax2.xaxis.set_major_formatter(FormatStrFormatter('%.2f'))\n",
    "\n",
    "\n",
    "\n",
    "n, bins, _ = ax3.hist(pzm, bins=50,color='orange', ec='grey')\n",
    "ax3.set_xlabel(r'$p_z$ [GeV]', fontsize=15)\n",
    "ax3.ticklabel_format(axis=\"y\", style=\"sci\", scilimits=(5,5))\n",
    "ax3.xaxis.set_major_formatter(FormatStrFormatter('%.0f'))\n",
    "\n",
    "\n",
    "\n",
    "plt.show()"
   ]
  },
  {
   "cell_type": "code",
   "execution_count": 42,
   "metadata": {},
   "outputs": [
    {
     "name": "stdout",
     "output_type": "stream",
     "text": [
      "max px= 0.010291177895077214\n",
      "max py= 0.010291175624242194\n",
      "max pz= -4115.398347421035\n",
      "\n",
      "min px= -0.010291178549383941\n",
      "min py= -0.01029117717354922\n",
      "min pz= -5003.706383090383\n"
     ]
    }
   ],
   "source": [
    "print('max px=',np.max(pxm))\n",
    "print('max py=',np.max(pym))\n",
    "print('max pz=',np.max(pzm))\n",
    "print('')\n",
    "print('min px=',np.min(pxm))\n",
    "print('min py=',np.min(pym))\n",
    "print('min pz=',np.min(pzm))"
   ]
  },
  {
   "cell_type": "code",
   "execution_count": null,
   "metadata": {},
   "outputs": [],
   "source": [
    "#Realistic target"
   ]
  },
  {
   "cell_type": "code",
   "execution_count": null,
   "metadata": {},
   "outputs": [],
   "source": [
    "#Realistic beam"
   ]
  },
  {
   "cell_type": "markdown",
   "metadata": {},
   "source": [
    "## Aditional considerations\n",
    "\n",
    "8. given that the electrons traversing the target lose energy as $E(z)=E_0 \\exp{-z/X_0}$ (with z the longitudinal coordinate of the target, the one parallel to the beam direction and $X_0$ is the Beryllium radiation length), compute the nominal beam energy $E_0$ such that muon pairs can be generated along the whole length of the target;\n",
    "9. (optional) take the former point into account when generating the events (i.e. the proccess $\\sqrt{s}$ depend on the position along the target where the $e^+ - e^-$ scattering occurrs.\n",
    "\n"
   ]
  },
  {
   "cell_type": "code",
   "execution_count": null,
   "metadata": {},
   "outputs": [],
   "source": []
  }
 ],
 "metadata": {
  "kernelspec": {
   "display_name": "Python 3",
   "language": "python",
   "name": "python3"
  },
  "language_info": {
   "codemirror_mode": {
    "name": "ipython",
    "version": 3
   },
   "file_extension": ".py",
   "mimetype": "text/x-python",
   "name": "python",
   "nbconvert_exporter": "python",
   "pygments_lexer": "ipython3",
   "version": "3.8.5"
  }
 },
 "nbformat": 4,
 "nbformat_minor": 2
}
